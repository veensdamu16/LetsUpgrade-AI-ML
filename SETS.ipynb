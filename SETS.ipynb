{
 "cells": [
  {
   "cell_type": "markdown",
   "metadata": {},
   "source": [
    "## Sets"
   ]
  },
  {
   "cell_type": "markdown",
   "metadata": {},
   "source": [
    "- A set is an unordered collection data type with no duplicate elements. \n",
    "- Sets are iterable and mutable.\n",
    "- Hence the elements appear in an arbitrary order when sets are iterated."
   ]
  },
  {
   "cell_type": "code",
   "execution_count": 1,
   "metadata": {},
   "outputs": [
    {
     "name": "stdout",
     "output_type": "stream",
     "text": [
      "o:  set()\n",
      "empty set:  {}\n",
      "a:  {1, 2, 3}\n",
      "b:  {1, 2, 3}\n",
      "c: {'r', 'p', 's', 'e', 't', 'd', 'a', 'l', 'g', 'u'}\n"
     ]
    }
   ],
   "source": [
    "#ways to create a set\n",
    "\n",
    "##1( creating an empty set using set() constructor)\n",
    "o= set()\n",
    "print(\"o: \",o)\n",
    "# using {}\n",
    "print(\"empty set: \",{})\n",
    "\n",
    "##2( using a list )\n",
    "a= set([1,2,3])\n",
    "print(\"a: \",a)\n",
    "\n",
    "##3( using {} )\n",
    "b= {1,2,3,3}\n",
    "print(\"b: \",b)\n",
    "\n",
    "##4(creating a set with a string)\n",
    "c=set(\"letsupgrade\")\n",
    "print(\"c:\",c)"
   ]
  },
  {
   "cell_type": "markdown",
   "metadata": {},
   "source": [
    "#### notes\n",
    "- You cannot access items in a set by referring to an index, since sets are unordered and the items has no index.\n",
    "- Once a set is created, you cannot change its items, but you can add new items."
   ]
  },
  {
   "cell_type": "code",
   "execution_count": 2,
   "metadata": {},
   "outputs": [
    {
     "name": "stdout",
     "output_type": "stream",
     "text": [
      "c: {'r', 'p', 's', 'e', 't', 'd', 'a', 'l', 'g', 'u'}\n",
      "c.add(): {'r', 'p', 's', 'e', 't', 'apple', 'd', 'a', 'l', 'g', 'u'}\n",
      "b: {1, 2, 3}\n",
      "b.update(): {1, 2, 3, 'apple', 'mango', 'orange'}\n",
      "6\n",
      "b.remove('apple'):  {1, 2, 3, 'mango', 'orange'}\n",
      "a.discard(2) {1, 3}\n"
     ]
    }
   ],
   "source": [
    "## METHODS\n",
    "a= set([1,2,3]);b= {1,2,3,3};c=set(\"letsupgrade\")\n",
    "\n",
    "#1-.add()-->To add one item to a set\n",
    "print(\"c:\",c)\n",
    "c.add(\"apple\")\n",
    "print(\"c.add():\",c)\n",
    "\n",
    "#2-.update()--->Add multiple items to a set\n",
    "print(\"b:\",b)\n",
    "b.update([\"apple\",\"orange\",\"mango\"])\n",
    "print(\"b.update():\",b)\n",
    "\n",
    "#3-.len()---> to get length of a set\n",
    "print(len(b))\n",
    "\n",
    "#4-.remove()--->To remove an item in a set\n",
    "b.remove(\"apple\")\n",
    "print(\"b.remove('apple'): \",b)\n",
    "\n",
    "#5-.discard()--->To remove an item in a set\n",
    "a.discard(2)\n",
    "print(\"a.discard(2)\",a)\n",
    "\n"
   ]
  },
  {
   "cell_type": "code",
   "execution_count": 3,
   "metadata": {},
   "outputs": [],
   "source": [
    "# remove() vs discard():\n",
    "  #If the item to remove does not exist, remove() will raise an error.\n",
    "  #If the item to remove does not exist, discard() will NOT raise an error.\n",
    "a.discard(\"apple\")"
   ]
  },
  {
   "cell_type": "code",
   "execution_count": 4,
   "metadata": {},
   "outputs": [
    {
     "ename": "KeyError",
     "evalue": "'apple'",
     "output_type": "error",
     "traceback": [
      "\u001b[1;31m---------------------------------------------------------------------------\u001b[0m",
      "\u001b[1;31mKeyError\u001b[0m                                  Traceback (most recent call last)",
      "\u001b[1;32m<ipython-input-4-21dc7bb7cda5>\u001b[0m in \u001b[0;36m<module>\u001b[1;34m\u001b[0m\n\u001b[1;32m----> 1\u001b[1;33m \u001b[0ma\u001b[0m\u001b[1;33m.\u001b[0m\u001b[0mremove\u001b[0m\u001b[1;33m(\u001b[0m\u001b[1;34m\"apple\"\u001b[0m\u001b[1;33m)\u001b[0m\u001b[1;33m\u001b[0m\u001b[1;33m\u001b[0m\u001b[0m\n\u001b[0m",
      "\u001b[1;31mKeyError\u001b[0m: 'apple'"
     ]
    }
   ],
   "source": [
    "a.remove(\"apple\")\n"
   ]
  },
  {
   "cell_type": "code",
   "execution_count": 5,
   "metadata": {},
   "outputs": [
    {
     "name": "stdout",
     "output_type": "stream",
     "text": [
      "b:  {1, 2, 3}\n",
      "1\n",
      "b after using .pop():  {2, 3}\n",
      "a:  {1, 2, 3}\n",
      "a after using clear() method:  set()\n"
     ]
    }
   ],
   "source": [
    "## METHODS\n",
    "a= set([1,2,3]);b= {1,2,3,3};c=set(\"letsupgrade\")\n",
    "\n",
    "#6-.pop()---> Remove the last item\n",
    "#Sets are unordered, so when using the pop() method, you will not know which item that gets removed.\n",
    "print(\"b: \",b)\n",
    "print(b.pop())\n",
    "print(\"b after using .pop(): \",b)\n",
    "\n",
    "\n",
    "#7-.clear()---> The clear() method empties the set:\n",
    "print(\"a: \",a)\n",
    "a.clear()\n",
    "print(\"a after using clear() method: \",a)\n",
    "#8 del --->The del keyword will delete the set completely"
   ]
  },
  {
   "cell_type": "markdown",
   "metadata": {},
   "source": [
    "## set to set operations"
   ]
  },
  {
   "cell_type": "code",
   "execution_count": 6,
   "metadata": {},
   "outputs": [
    {
     "name": "stdout",
     "output_type": "stream",
     "text": [
      "# x.union(y)\n",
      "\n",
      "x         :  {1, 2, 3, 4, 5}\n",
      "y         :  {'c', True, 9, 'a', 'b'}\n",
      "x.union(y):  {'c', 1, 2, 3, 4, 5, 9, 'a', 'b'}\n",
      "\n",
      "# x.update(y)\n",
      "\n",
      "x         :  {'c', 1, 2, 3, 4, 5, 9, 'a', 'b'}\n",
      "y         :  {'c', True, 9, 'a', 'b'}\n"
     ]
    }
   ],
   "source": [
    "##1 join two sets \n",
    "\n",
    "\n",
    "#1 set1.union(set2)-->returns a new set with all items from both sets or  (set1 | set2)\n",
    "x=set([1,2,3,4,5]); y={\"a\",\"b\",\"c\",True, 9}\n",
    "\n",
    "print(\"# x.union(y)\",end=\"\\n\\n\")\n",
    "a=x.union(y) # or x|y\n",
    "print(\"x         : \",x)\n",
    "print(\"y         : \",y)\n",
    "print(\"x.union(y): \",a,end=\"\\n\\n\")\n",
    "\n",
    "\n",
    "#2 set1.update(set2)-->inserts the items of set2 into set1\n",
    "x=set([1,2,3,4,5]); y={\"a\",\"b\",\"c\",True, 9}\n",
    "\n",
    "print(\"# x.update(y)\",end=\"\\n\\n\")\n",
    "x.update(y)\n",
    "print(\"x         : \",x)\n",
    "print(\"y         : \",y)\n"
   ]
  },
  {
   "cell_type": "code",
   "execution_count": 7,
   "metadata": {},
   "outputs": [
    {
     "name": "stdout",
     "output_type": "stream",
     "text": [
      "x.intersection(y):  {9}\n",
      "x.difference(y):  {1, 2, 3, 4, 5}\n"
     ]
    }
   ],
   "source": [
    "##2 set1.intersection(set2) or  (set1 & set2) ---> common items in set1 and 2\n",
    "x=set([1,2,3,4,5,9]); y={\"a\",\"b\",\"c\", 9}\n",
    "print(\"x.intersection(y): \",x & y)\n",
    "\n",
    "##3 set1.difference(set2)   or  (set1 - set2) ---> present in set1 but not in set2\n",
    "print(\"x.difference(y): \",x-y)\n"
   ]
  },
  {
   "cell_type": "code",
   "execution_count": 8,
   "metadata": {},
   "outputs": [
    {
     "name": "stdout",
     "output_type": "stream",
     "text": [
      "x.issubset(y):  False\n",
      "x.isdisjoint(y):  False\n"
     ]
    }
   ],
   "source": [
    "##4 set1.issubset(set2) -----> check set1 is subset of set2\n",
    "print(\"x.issubset(y): \",x.issubset(y))\n",
    "##5 set1.isdisjoint(set2)-----> check if set1 and set2 dont have common elements\n",
    "print(\"x.isdisjoint(y): \",x.isdisjoint(y))"
   ]
  },
  {
   "cell_type": "code",
   "execution_count": null,
   "metadata": {},
   "outputs": [],
   "source": []
  }
 ],
 "metadata": {
  "kernelspec": {
   "display_name": "Python 3",
   "language": "python",
   "name": "python3"
  },
  "language_info": {
   "codemirror_mode": {
    "name": "ipython",
    "version": 3
   },
   "file_extension": ".py",
   "mimetype": "text/x-python",
   "name": "python",
   "nbconvert_exporter": "python",
   "pygments_lexer": "ipython3",
   "version": "3.7.6"
  }
 },
 "nbformat": 4,
 "nbformat_minor": 4
}
