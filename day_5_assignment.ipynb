{
 "cells": [
  {
   "cell_type": "markdown",
   "metadata": {},
   "source": [
    "## Question 1 :\n",
    "Write a Python program to find the first 20 non-even prime natural numbers."
   ]
  },
  {
   "cell_type": "code",
   "execution_count": 1,
   "metadata": {},
   "outputs": [
    {
     "name": "stdout",
     "output_type": "stream",
     "text": [
      "the first 20 non-even prime natural numbers: [3, 5, 7, 11, 13, 17, 19, 23, 29, 31, 37, 41, 43, 47, 53, 59, 61, 67, 71, 73]\n"
     ]
    }
   ],
   "source": [
    "j=2;i=0;l=[];\n",
    "while((i <20)):\n",
    "    j=j+1;\n",
    "    for k in range(2,j):\n",
    "        if(j%k==0):\n",
    "            break\n",
    "    else:\n",
    "        l.append(j)\n",
    "        i=i+1\n",
    "\n",
    "print(\"the first 20 non-even prime natural numbers:\",l)"
   ]
  },
  {
   "cell_type": "markdown",
   "metadata": {},
   "source": [
    "## Question 2 :\n",
    "Write a Python program to implement 15 functions of string."
   ]
  },
  {
   "cell_type": "code",
   "execution_count": 2,
   "metadata": {
    "scrolled": true
   },
   "outputs": [
    {
     "name": "stdout",
     "output_type": "stream",
     "text": [
      "the string is: # it is a pleasant experience ###\n",
      "split(): ['#', 'it', 'is', 'a', 'pleasant', 'experience', '###']\n",
      "strip():  it is a pleasant experience \n",
      "join(): e,x,p,e,r,i,e,n,c,e\n",
      "upper(): EXPERIENCE\n",
      "lower(): experience\n",
      "find(): 5\n",
      "count(): 4\n",
      "index(): 0\n",
      "format(): this is a new experience\n",
      "replace(): ExpEriEncE\n",
      "islower(): True\n",
      "isupper(): False\n",
      "len(): 10\n",
      "str(): 45\n",
      "<class 'str'>\n",
      "capitalize(): Experience\n"
     ]
    }
   ],
   "source": [
    "# 15 functions of string implementation:\n",
    "\n",
    "p=\"# it is a pleasant experience ###\"\n",
    "q= list(\"experience\")\n",
    "r= \"experience\"\n",
    "print(\"the string is:\",p)\n",
    "\n",
    "# 1. split():--> Return a list of the words in the string, using sep as the delimiter string\n",
    "print(\"split():\",p.split(sep=\" \"))\n",
    "# 2. strip():--> Return a copy of the string with leading and trailing whitespace remove(default) or specific character remove.\n",
    "print(\"strip():\",p.strip(\"#\"))\n",
    "# 3. join():--->join values in a sequence using delimiter\n",
    "print(\"join():\",\",\".join(q))\n",
    "# 4. upper():-->convert a string to uppercase\n",
    "print(\"upper():\",r.upper())\n",
    "# 5. lower():-->convert a string to uppercase\n",
    "print(\"lower():\",r.lower())\n",
    "# 6. find():-->to find the index of a substring in a string\n",
    "print(\"find():\",r.find(\"ie\"))\n",
    "# 7. count():-->returns the number of occurrences of a substring in the given string.\n",
    "print(\"count():\",r.count(\"e\"))\n",
    "# 8. index():--> returns the lowest index where the specified substring is found\n",
    "print(\"index():\",r.index(\"e\"))\n",
    "# 9. format():-->concatenate elements within a string through positional formatting.\n",
    "print(\"format(): this is a new {0}\".format(r))\n",
    "# 10. replace():--->to create a string by replacing some parts of another string.\n",
    "print(\"replace():\",r.replace(\"e\",\"E\"))\n",
    "# 11. islower():-->returns True if all cased characters in the string are lowercase otherwise it returns False\n",
    "print(\"islower():\",r.islower())\n",
    "# 12. isupper():-->returns True if all cased characters in the string are uppercase otherwise it returns False\n",
    "print(\"isupper():\",r.isupper())\n",
    "# 13. len():-->returns the number of characters in a string\n",
    "print(\"len():\",len(r))\n",
    "# 14. str():-->Returns a string representation of an object\n",
    "print(\"str():\",str(45))\n",
    "print(type(str(45)))\n",
    "# 15. capitalize():-->Upper case the first letter of a sentence\n",
    "print(\"capitalize():\",r.capitalize())"
   ]
  },
  {
   "cell_type": "markdown",
   "metadata": {},
   "source": [
    "## Question 3:\n",
    "Write a Python program to check if the given string is a Palindrome or Anagram or None of them.\n",
    "Display the message accordingly to the user."
   ]
  },
  {
   "cell_type": "code",
   "execution_count": 4,
   "metadata": {},
   "outputs": [
    {
     "name": "stdout",
     "output_type": "stream",
     "text": [
      "enter the string:rotator\n",
      "rotator is a palindrome\n"
     ]
    }
   ],
   "source": [
    "#program\n",
    "s=input(\"enter the string:\")\n",
    "r=s[::-1]\n",
    "if(s==r):\n",
    "    print(\"{} is a palindrome\".format(s))\n",
    "else:\n",
    "    t=input(\"enter another string:\")\n",
    "    if((set(s)==set(t)) and (len(s)==len(t))):\n",
    "        print(\"{0} and {1} are anagrams\".format(s,t))\n",
    "    else:\n",
    "        print(\"Neither palindrome nor Anagram\")\n",
    "    "
   ]
  },
  {
   "cell_type": "markdown",
   "metadata": {},
   "source": [
    "## Question 4:\n",
    "Write a Python's user defined function that removes all the additional characters from the string\n",
    "and converts it finally to lower case using built-in lower(). eg: If the string is \"Dr. Darshan Ingle\n",
    "@AI-ML Trainer\", then the output be \"drdarshaningleaimltrainer\"."
   ]
  },
  {
   "cell_type": "code",
   "execution_count": 5,
   "metadata": {},
   "outputs": [
    {
     "data": {
      "text/plain": [
       "'drdarshaningleaimltrainer'"
      ]
     },
     "execution_count": 5,
     "metadata": {},
     "output_type": "execute_result"
    }
   ],
   "source": [
    "def editor(s):\n",
    "    r=[];\n",
    "    q=list(s.lower())\n",
    "    az=\"abcdefghijklmnopqrstuvwxyz\"\n",
    "\n",
    "    for i in q:\n",
    "        if i in az:\n",
    "            r.append(i)\n",
    "\n",
    "    s=\"\".join(r)\n",
    "    return s\n",
    "    \n",
    "editor(\"Dr. Darshan Ingle @AI-ML Trainer\")    "
   ]
  }
 ],
 "metadata": {
  "kernelspec": {
   "display_name": "Python 3",
   "language": "python",
   "name": "python3"
  },
  "language_info": {
   "codemirror_mode": {
    "name": "ipython",
    "version": 3
   },
   "file_extension": ".py",
   "mimetype": "text/x-python",
   "name": "python",
   "nbconvert_exporter": "python",
   "pygments_lexer": "ipython3",
   "version": "3.7.4"
  }
 },
 "nbformat": 4,
 "nbformat_minor": 2
}
