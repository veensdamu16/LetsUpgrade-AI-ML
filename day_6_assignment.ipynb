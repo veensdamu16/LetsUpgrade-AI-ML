{
 "cells": [
  {
   "cell_type": "markdown",
   "metadata": {},
   "source": [
    "## Question 1:\n",
    "Assuming that we have some email addresses in the \"username@companyname.com\" format, please write program\n",
    "to print the company name of a given email address. Both user names and company names are composed of letters\n",
    "only.\n",
    "- Input Format:\n",
    "The first line of the input contains an email address.\n",
    "- Output Format:\n",
    "Print the company name in single line.\n",
    "Example;\n",
    "Input:\n",
    "john@google.com\n",
    "Output:\n",
    "google"
   ]
  },
  {
   "cell_type": "code",
   "execution_count": 1,
   "metadata": {},
   "outputs": [
    {
     "name": "stdout",
     "output_type": "stream",
     "text": [
      "print the email address: john@google.com \n",
      "the company name is:google\n"
     ]
    }
   ],
   "source": [
    "e_add= input(\"print the email address:\")\n",
    "c=e_add.split(sep=\"@\")\n",
    "c1= c[1].split(sep=\".\")\n",
    "print(\"the company name is:{0}\".format(c1[0]))"
   ]
  },
  {
   "cell_type": "markdown",
   "metadata": {},
   "source": [
    "## Question 2:\n",
    "Write a program that accepts a comma-separated sequence of words as input and prints the words in a comma\n",
    "separated sequence after sorting them alphabetically.\n",
    "- Input Format:\n",
    "The first line of input contains words separated by the comma.\n",
    "- Output Format:\n",
    "Print the sorted words separated by the comma.\n",
    "- Example:\n",
    "  - Input:\n",
    "without,hello,bag,world\n",
    "  - Output:\n",
    "bag,hello,without,world"
   ]
  },
  {
   "cell_type": "code",
   "execution_count": 5,
   "metadata": {},
   "outputs": [
    {
     "name": "stdout",
     "output_type": "stream",
     "text": [
      "input the words: without,hello,bag,world\n",
      "output words: bag,hello,without,world\n"
     ]
    }
   ],
   "source": [
    "in_words= input(\"input the words: \")\n",
    "a=in_words.split(sep=\",\")\n",
    "a.sort()\n",
    "ou_words=\",\".join(x for x in a)\n",
    "print(\"output words: {0}\".format(ou_words))"
   ]
  },
  {
   "cell_type": "markdown",
   "metadata": {},
   "source": [
    "## Question 3:\n",
    "Create your own Jupyter Notebook for Sets.\n",
    "Reference link: https://www.w3schools.com/python/python_sets.asp"
   ]
  },
  {
   "cell_type": "markdown",
   "metadata": {},
   "source": [
    "### link for sets jupyter notebook given below:\n",
    "\n",
    "[SETS](SETS.ipynb)"
   ]
  },
  {
   "cell_type": "markdown",
   "metadata": {},
   "source": [
    "## Question 4:\n",
    "Given a list of n-1 numbers ranging from 1 to n, your task is to find the missing number. There are no duplicates.\n",
    "- Input Format:\n",
    "The first line contains n-1 numbers with each number separated by a space.\n",
    "- Output Format:\n",
    "Print the missing number\n",
    "- Example:\n",
    "  - Input:1 2 4 6 3 7 8\n",
    "  - Output:5"
   ]
  },
  {
   "cell_type": "code",
   "execution_count": 3,
   "metadata": {},
   "outputs": [
    {
     "name": "stdout",
     "output_type": "stream",
     "text": [
      "input the numbers :1 2 4 6 3 7 8\n",
      "missing number:  5\n"
     ]
    }
   ],
   "source": [
    "in_num= input(\"input the numbers :\")\n",
    "a= in_num.split(\" \")\n",
    "a1=[int(i) for i in a]\n",
    "a1.sort()\n",
    "for i in range(a1[0],len(a1)+1):\n",
    "    if i not in a1:\n",
    "        print(\"missing number: \",i) "
   ]
  },
  {
   "cell_type": "markdown",
   "metadata": {},
   "source": [
    "## Question 5:\n",
    "With a given list L, write a program to print this list L after removing all duplicate values with original order reserved.\n",
    "- Example:\n",
    "  - If the input list is\n",
    "12 24 35 24 88 120 155 88 120 155\n",
    "  - Then the output should be\n",
    "12 24 35 88 120 155"
   ]
  },
  {
   "cell_type": "code",
   "execution_count": 4,
   "metadata": {},
   "outputs": [
    {
     "name": "stdout",
     "output_type": "stream",
     "text": [
      "enter the numbers in the list: 12 24 35 24 88 120 155 88 120 155\n",
      "output is :12 24 35 88 120 155 "
     ]
    }
   ],
   "source": [
    "in_list= input(\"enter the numbers in the list: \")\n",
    "ilist= in_list.split(sep=\" \")\n",
    "a=[int(i) for i in ilist]\n",
    "b=set(a)\n",
    "c=list(b)\n",
    "c.sort()\n",
    "print(\"output is :\",end=\"\")\n",
    "for j in c:\n",
    "    print(j,end=\" \")"
   ]
  },
  {
   "cell_type": "code",
   "execution_count": null,
   "metadata": {},
   "outputs": [],
   "source": []
  }
 ],
 "metadata": {
  "kernelspec": {
   "display_name": "Python 3",
   "language": "python",
   "name": "python3"
  },
  "language_info": {
   "codemirror_mode": {
    "name": "ipython",
    "version": 3
   },
   "file_extension": ".py",
   "mimetype": "text/x-python",
   "name": "python",
   "nbconvert_exporter": "python",
   "pygments_lexer": "ipython3",
   "version": "3.7.6"
  }
 },
 "nbformat": 4,
 "nbformat_minor": 4
}
