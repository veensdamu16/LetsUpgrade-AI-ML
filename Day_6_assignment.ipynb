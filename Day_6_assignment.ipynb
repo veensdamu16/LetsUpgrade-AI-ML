{
 "cells": [
  {
   "cell_type": "markdown",
   "metadata": {},
   "source": [
    "## Question 1:\n",
    "Assuming that we have some email addresses in the \"username@companyname.com\" format, please write program\n",
    "to print the company name of a given email address. Both user names and company names are composed of letters\n",
    "only.\n",
    "- Input Format:\n",
    "The first line of the input contains an email address.\n",
    "- Output Format:\n",
    "Print the company name in single line.\n",
    "Example;\n",
    "Input:\n",
    "john@google.com\n",
    "Output:\n",
    "google"
   ]
  },
  {
   "cell_type": "code",
   "execution_count": 1,
   "metadata": {},
   "outputs": [
    {
     "name": "stdout",
     "output_type": "stream",
     "text": [
      "print the email address:john@google.com\n",
      "the company name is:google\n"
     ]
    }
   ],
   "source": [
    "e_add= input(\"print the email address:\")\n",
    "c=e_add.split(sep=\"@\")\n",
    "c1= c[1].split(sep=\".\")\n",
    "print(\"the company name is:{0}\".format(c1[0]))"
   ]
  },
  {
   "cell_type": "markdown",
   "metadata": {},
   "source": [
    "## Question 2:\n",
    "Write a program that accepts a comma-separated sequence of words as input and prints the words in a comma\n",
    "separated sequence after sorting them alphabetically.\n",
    "- Input Format:\n",
    "The first line of input contains words separated by the comma.\n",
    "- Output Format:\n",
    "Print the sorted words separated by the comma.\n",
    "- Example:\n",
    "  - Input:\n",
    "without,hello,bag,world\n",
    "  - Output:\n",
    "bag,hello,without,world"
   ]
  },
  {
   "cell_type": "code",
   "execution_count": 2,
   "metadata": {},
   "outputs": [
    {
     "name": "stdout",
     "output_type": "stream",
     "text": [
      "input the words: without,hello,bag,world\n",
      "output words: bag hello without world\n"
     ]
    }
   ],
   "source": [
    "in_words= input(\"input the words: \")\n",
    "a=in_words.split(sep=\",\")\n",
    "a.sort()\n",
    "ou_words=\" \".join(x for x in a)\n",
    "print(\"output words: {0}\".format(ou_words))"
   ]
  }
 ],
 "metadata": {
  "kernelspec": {
   "display_name": "Python 3",
   "language": "python",
   "name": "python3"
  },
  "language_info": {
   "codemirror_mode": {
    "name": "ipython",
    "version": 3
   },
   "file_extension": ".py",
   "mimetype": "text/x-python",
   "name": "python",
   "nbconvert_exporter": "python",
   "pygments_lexer": "ipython3",
   "version": "3.7.6"
  }
 },
 "nbformat": 4,
 "nbformat_minor": 4
}
