{
 "cells": [
  {
   "cell_type": "markdown",
   "metadata": {},
   "source": [
    "## Question 1 :\n",
    "Write a program to subtract two complex numbers in Python."
   ]
  },
  {
   "cell_type": "code",
   "execution_count": 33,
   "metadata": {},
   "outputs": [
    {
     "name": "stdout",
     "output_type": "stream",
     "text": [
      "Enter the complex number 1:\n",
      "complex number 1:3+4j\n",
      "Enter the complex number 2:\n",
      "complex number 2:1+2j\n",
      "subtracting c2 from c1\n",
      "c1 - c2 = (2+2j)\n"
     ]
    }
   ],
   "source": [
    "#enter the complex numbers\n",
    "\n",
    "print(\"Enter the complex number 1:\")\n",
    "c1 = complex(input(\"complex number 1:\"))\n",
    "print(\"Enter the complex number 2:\")\n",
    "c2 = complex(input(\"complex number 2:\"))\n",
    "\n",
    "# program to subtract two complex number in python\n",
    "\n",
    "nc=c1-c2\n",
    "print(\"subtracting c2 from c1\")\n",
    "print(\"c1 - c2 = {0}\".format(nc))"
   ]
  },
  {
   "cell_type": "markdown",
   "metadata": {},
   "source": [
    "## Question 2 :\n",
    "Write a program to find the fourth root of a number."
   ]
  },
  {
   "cell_type": "code",
   "execution_count": 28,
   "metadata": {},
   "outputs": [
    {
     "name": "stdout",
     "output_type": "stream",
     "text": [
      "number :5\n",
      "fourth root of 5: 1.4953487812212205\n"
     ]
    }
   ],
   "source": [
    "import math\n",
    "\n",
    "n= int(input(\"number :\"))\n",
    "\n",
    "rn= math.pow(n,0.25)\n",
    "\n",
    "print(\"fourth root of {0}: {1}\".format(n,rn))\n"
   ]
  },
  {
   "cell_type": "markdown",
   "metadata": {},
   "source": [
    "## Question 3:\n",
    "Write a program to swap two numbers in Python with the help of a temporary variable."
   ]
  },
  {
   "cell_type": "code",
   "execution_count": 34,
   "metadata": {},
   "outputs": [
    {
     "name": "stdout",
     "output_type": "stream",
     "text": [
      "a:2\n",
      "b:3\n",
      "new a & b :(3,2)\n"
     ]
    }
   ],
   "source": [
    "#enter two numbers\n",
    "a=int(input(\"a:\"))\n",
    "b=int(input(\"b:\"))\n",
    "\n",
    "#swap two numbers\n",
    "c=a\n",
    "a=b\n",
    "b=c\n",
    "print(\"new a & b :({0},{1})\".format(a,b))"
   ]
  },
  {
   "cell_type": "markdown",
   "metadata": {},
   "source": [
    "## Question 4:\n",
    "Write a program to swap two numbers in Python without using a temporary variable."
   ]
  },
  {
   "cell_type": "code",
   "execution_count": 35,
   "metadata": {},
   "outputs": [
    {
     "name": "stdout",
     "output_type": "stream",
     "text": [
      "a:3\n",
      "b:7\n",
      "new a & b :(7,3)\n"
     ]
    }
   ],
   "source": [
    "#enter two numbers\n",
    "a=int(input(\"a:\"))\n",
    "b=int(input(\"b:\"))\n",
    "\n",
    "#swap two numbers without temporary variable\n",
    "a,b = b,a\n",
    "print(\"new a & b :({0},{1})\".format(a,b))"
   ]
  },
  {
   "cell_type": "markdown",
   "metadata": {},
   "source": [
    "## Question 5:\n",
    "Write a program to convert fahrenheit to kelvin and celsius both."
   ]
  },
  {
   "cell_type": "code",
   "execution_count": 40,
   "metadata": {},
   "outputs": [
    {
     "name": "stdout",
     "output_type": "stream",
     "text": [
      "fahrenheit temperature:100\n",
      " fahrenheit to kelvin and celsius:\n",
      "100.0F is 310.93K and 37.78C\n"
     ]
    }
   ],
   "source": [
    "# enter temperature in fahrenheit\n",
    "f = float(input(\"fahrenheit temperature:\"))\n",
    "\n",
    "# fahrenheit to kelvin\n",
    "k = round(((f-32)*(5/9) + 273.15),2)\n",
    "\n",
    "# fahrenheit to celsius\n",
    "c = round(((f-32)*(5/9)),2)\n",
    "\n",
    "print(\" fahrenheit to kelvin and celsius:\")\n",
    "print(\"{0}F is {1}K and {2}C\".format(f,k,c))"
   ]
  },
  {
   "cell_type": "markdown",
   "metadata": {},
   "source": [
    "## Question 6:\n",
    "Write a program to demonstrate all the available data types in Python. Hint: Use type() function."
   ]
  },
  {
   "cell_type": "code",
   "execution_count": 52,
   "metadata": {},
   "outputs": [
    {
     "name": "stdout",
     "output_type": "stream",
     "text": [
      "<class 'int'>\n",
      "<class 'float'>\n",
      "<class 'complex'>\n",
      "<class 'bool'>\n",
      "<class 'bool'>\n",
      "<class 'str'>\n",
      "<class 'list'>\n",
      "<class 'tuple'>\n",
      "<class 'dict'>\n",
      "<class 'set'>\n"
     ]
    }
   ],
   "source": [
    "#numeric data types--- int,float,complex\n",
    "#int\n",
    "print(type(3))\n",
    "#float\n",
    "print(type(3.123))\n",
    "#complex\n",
    "print(type(2+3j))\n",
    "\n",
    "#boolean data types----True,False\n",
    "print(type(True))\n",
    "print(type(False))\n",
    "\n",
    "#Sequence data types --- String,List,Tuple\n",
    "#String\n",
    "print(type(\"hello\"))\n",
    "#List\n",
    "print(type([1,2,3]))\n",
    "#Tuple\n",
    "print(type((1,2,3)))\n",
    "\n",
    "#mapping data type-- Dictionary\n",
    "print(type({\"a\":1,\"b\":\"abc\",\"c\":True}))\n",
    "\n",
    "#set data type\n",
    "print(type({2,3,True}))"
   ]
  },
  {
   "cell_type": "markdown",
   "metadata": {},
   "source": [
    "## Question 7:\n",
    "Create a Markdown cell in jupyter and list the steps discussed in the session by Dr. Darshan\n",
    "Ingle sir to create Github profile and upload Githubs Assignment link."
   ]
  },
  {
   "cell_type": "markdown",
   "metadata": {},
   "source": [
    "__Steps to create Github profile and upload Githubs Assignment link__\n",
    "1. go to https://github.com/\n",
    "2. sign up using gmail account\n",
    "3. go to your profile in your account\n",
    "4. open the repositories tab and create new repository\n",
    "5. name the new repository as LetsUpgrade AI-ML(it must be public)\n",
    "6. store the file to be uploaded in seperate folder in laptop \n",
    "7. open the LetsUpgrade AI-ML repository and click upload existing file and upload the file & save it.\n",
    "8. go to the folder containing the file and open it. copy the link of the uploaded file in github.\n",
    "9. paste the above link in assignment form of letsupgrade and submit it.\n",
    "  \n",
    "\n",
    "                \n",
    "\n",
    "\n"
   ]
  },
  {
   "cell_type": "code",
   "execution_count": null,
   "metadata": {},
   "outputs": [],
   "source": []
  }
 ],
 "metadata": {
  "kernelspec": {
   "display_name": "Python 3",
   "language": "python",
   "name": "python3"
  },
  "language_info": {
   "codemirror_mode": {
    "name": "ipython",
    "version": 3
   },
   "file_extension": ".py",
   "mimetype": "text/x-python",
   "name": "python",
   "nbconvert_exporter": "python",
   "pygments_lexer": "ipython3",
   "version": "3.7.4"
  }
 },
 "nbformat": 4,
 "nbformat_minor": 2
}
