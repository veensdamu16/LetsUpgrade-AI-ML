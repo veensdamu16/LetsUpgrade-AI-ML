{
 "cells": [
  {
   "cell_type": "markdown",
   "metadata": {},
   "source": [
    "## Hypothesis on probability of attrition case study"
   ]
  },
  {
   "cell_type": "markdown",
   "metadata": {},
   "source": [
    "1.  Attrition rate of HR department is the highest and that of Research & Development is the least\n",
    "2.  Attrition rate is high after one year of job experience\n",
    "3.  Employees recently promoted tend to shift companies,contributing to attrition.\n",
    "4.  Employees in their second company tend to shift/quit companies adding to attrition.\n",
    "5.  Married female employees tend to shift/quit companies more compared to married male employees\n",
    "6.  Attrition rate is high when new manager is introduced(or YearsWithCurrManager<1)\n",
    "7.  Attrition rate is comparitively high with employee having frequent business travel\n",
    "8.  Female employees tend to stay with high job level compared to male employees\n",
    "9.  Employees with HR background had a high attrition rate compared to other education fields\n",
    "10. Employees given a Salary hike of (13-17)% range tend to shift companies adding to attrition rate\n",
    "\n"
   ]
  },
  {
   "cell_type": "code",
   "execution_count": null,
   "metadata": {},
   "outputs": [],
   "source": []
  }
 ],
 "metadata": {
  "kernelspec": {
   "display_name": "Python 3",
   "language": "python",
   "name": "python3"
  },
  "language_info": {
   "codemirror_mode": {
    "name": "ipython",
    "version": 3
   },
   "file_extension": ".py",
   "mimetype": "text/x-python",
   "name": "python",
   "nbconvert_exporter": "python",
   "pygments_lexer": "ipython3",
   "version": "3.7.6"
  }
 },
 "nbformat": 4,
 "nbformat_minor": 4
}
