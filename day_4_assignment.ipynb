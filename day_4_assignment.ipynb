{
 "cells": [
  {
   "cell_type": "markdown",
   "metadata": {},
   "source": [
    "## Question 1 :\n",
    "Research on whether addition, subtraction, multiplication, division, floor division and modulo\n",
    "operations be performed on complex numbers. Based on your study, implement a Python\n",
    "program to demonstrate these operations."
   ]
  },
  {
   "cell_type": "code",
   "execution_count": 5,
   "metadata": {},
   "outputs": [
    {
     "name": "stdout",
     "output_type": "stream",
     "text": [
      "Enter the complex number 1:\n",
      "complex number 1:1+2j\n",
      "Enter the complex number 2:\n",
      "complex number 2:2+3j\n",
      "Addition operation : c1+c2=  (3+5j)\n",
      "Subtraction operation : c1-c2=  (-1-1j)\n",
      "Multiplication operation : c1*c2=  (-4+7j)\n",
      "Division operation : c1/c2=  (0.6153846153846154+0.07692307692307691j)\n"
     ]
    }
   ],
   "source": [
    "#enter the complex numbers\n",
    "\n",
    "print(\"Enter the complex number 1:\")\n",
    "c1 = complex(input(\"complex number 1:\"))\n",
    "print(\"Enter the complex number 2:\")\n",
    "c2 = complex(input(\"complex number 2:\"))\n",
    "\n",
    "#Addition\n",
    "print(\"Addition operation : c1+c2= \",c1+c2)\n",
    "\n",
    "#Subtraction\n",
    "print(\"Subtraction operation : c1-c2= \",c1-c2)\n",
    "\n",
    "#Multiplication\n",
    "print(\"Multiplication operation : c1*c2= \",c1*c2)\n",
    "\n",
    "#Division\n",
    "print(\"Division operation : c1/c2= \",c1/c2)\n",
    "\n",
    "#Floor Division\n",
    "# print(\"Floor Division operation : c1//c2= \",c1//c2)\n",
    "\n",
    "#Modulo operation\n",
    "# print(\"modulo operation : c1%c2= \",c1 % c2)\n",
    "\n",
    "# the above two operations- floor division and modulo operation cant be performed on complex numbers and hence it gives error\n"
   ]
  },
  {
   "cell_type": "markdown",
   "metadata": {},
   "source": [
    "## Question 2 :\n",
    "Research on range() functions and its parameters. Create a markdown cell and write in your own\n",
    "words (no copy-paste from google please) what you understand about it. Implement a small\n",
    "program of your choice on the same."
   ]
  },
  {
   "cell_type": "markdown",
   "metadata": {},
   "source": [
    " __range() function:__\n",
    "- **Syntax: ___range___( stop ) or ___range___( start, stop, step )**\n",
    "- start and step parameters are optional but step parameter is required.\n",
    "- arguments must be integers and non-integer gives TypeError. \n",
    "- default start value is 0 and default step value is 1. Step value of 0 raises ValueError.\n",
    "- output has sequence of values from start( default value is 0 ) to ( stop-1 ) with the step value (or default step value of 1)\n",
    "- step value can be positive or negative. \n",
    "  - for positive step value, stop > start \n",
    "  - for negative step value, start > stop \n",
    "- generally used in ___for loops___ for looping specific number of times.\n",
    "- we use list() outside range() to represent sequence outside the loops.\n",
    "- the advantage of using ___range()___ over list or tuple,to represent a sequence is that range requires very less storage as it only stores the ___start,stop,step___ values whereas in list and tuples it stores every value in the sequence. Hence range() becomes handy when size of sequence is large."
   ]
  },
  {
   "cell_type": "code",
   "execution_count": 16,
   "metadata": {},
   "outputs": [
    {
     "name": "stdout",
     "output_type": "stream",
     "text": [
      "a: [0, 1, 2, 3, 4]\n",
      "a1 []\n",
      "b: [1, 2, 3, 4]\n",
      "c: [1, 3]\n",
      "d: [5, 3] \n",
      "\n",
      "0\t1\t2\t3\t4\t"
     ]
    }
   ],
   "source": [
    "#Examples outside loop:\n",
    "\n",
    " ##range(stop)\n",
    "a= list(range(0,5))\n",
    "print(\"a:\",a)\n",
    "a1= list(range(0))\n",
    "print(\"a1\",a1)\n",
    "# a2= list(range(2.5))\n",
    "# print(\"a2\",a2)\n",
    "# non-integer gives TypeError because argument should be integer\n",
    "\n",
    " ##range(start,stop)\n",
    "b= list(range(1,5))\n",
    "print(\"b:\",b)\n",
    "\n",
    " ##range(start,stop,step)\n",
    "    #positive step:\n",
    "c= list(range(1,5,2))\n",
    "print(\"c:\",c)\n",
    "    #negative step:\n",
    "d= list(range(5,1,-2))\n",
    "print(\"d:\",d,\"\\n\")\n",
    "\n",
    "#Examples in for loop:\n",
    "for i in range(5):\n",
    "    print(i,end =\"\\t\")\n",
    "\n"
   ]
  },
  {
   "cell_type": "markdown",
   "metadata": {},
   "source": [
    "## Question 3:\n",
    "Consider two numbers. Perform their subtraction and if the result of subtraction is greater than\n",
    "25, print their multiplication result else print their division result."
   ]
  },
  {
   "cell_type": "code",
   "execution_count": 20,
   "metadata": {},
   "outputs": [
    {
     "name": "stdout",
     "output_type": "stream",
     "text": [
      "a:4\n",
      "b:2\n",
      "2.0\n"
     ]
    }
   ],
   "source": [
    "#enter two numbers\n",
    "a=int(input(\"a:\"));\n",
    "b=int(input(\"b:\"));\n",
    "\n",
    "#program\n",
    "if((a-b) > 25):\n",
    "    print(a*b)\n",
    "else:\n",
    "    print(a/b)"
   ]
  },
  {
   "cell_type": "markdown",
   "metadata": {},
   "source": [
    "## Question 4:\n",
    "Consider a list of 10 elements of integer values. If the number in the list is divisible by 2, print the\n",
    "result as \"square of that number minus 2\"."
   ]
  },
  {
   "cell_type": "code",
   "execution_count": 26,
   "metadata": {},
   "outputs": [
    {
     "name": "stdout",
     "output_type": "stream",
     "text": [
      "2\n",
      "62\n",
      "98\n",
      "34\n",
      "398\n"
     ]
    }
   ],
   "source": [
    "p=[2,5,3,8,5,10,13,6,9,20]\n",
    "\n",
    "for i in p:\n",
    "    if(i%2==0):\n",
    "        print(i**2 - 2)"
   ]
  },
  {
   "cell_type": "markdown",
   "metadata": {},
   "source": [
    "## Question 5:\n",
    "Consider a list of 10 elements. Print all the elements in the list which are greater than 7 when that\n",
    "number is divided 2."
   ]
  },
  {
   "cell_type": "code",
   "execution_count": 28,
   "metadata": {},
   "outputs": [
    {
     "name": "stdout",
     "output_type": "stream",
     "text": [
      "18\n",
      "20\n"
     ]
    }
   ],
   "source": [
    "p=[2,5,3,8,5,10,13,6,18,20]\n",
    "\n",
    "for i in p:\n",
    "    if((i/2) > 7):\n",
    "        print(i)"
   ]
  }
 ],
 "metadata": {
  "kernelspec": {
   "display_name": "Python 3",
   "language": "python",
   "name": "python3"
  },
  "language_info": {
   "codemirror_mode": {
    "name": "ipython",
    "version": 3
   },
   "file_extension": ".py",
   "mimetype": "text/x-python",
   "name": "python",
   "nbconvert_exporter": "python",
   "pygments_lexer": "ipython3",
   "version": "3.7.4"
  }
 },
 "nbformat": 4,
 "nbformat_minor": 2
}
