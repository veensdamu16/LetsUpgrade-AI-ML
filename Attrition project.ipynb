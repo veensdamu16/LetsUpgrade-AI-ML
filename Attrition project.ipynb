{
 "cells": [
  {
   "cell_type": "markdown",
   "metadata": {},
   "source": [
    "## Attrition project assignment"
   ]
  },
  {
   "cell_type": "code",
   "execution_count": 1,
   "metadata": {},
   "outputs": [],
   "source": [
    "import numpy as np\n",
    "import pandas as pd"
   ]
  },
  {
   "cell_type": "code",
   "execution_count": 2,
   "metadata": {},
   "outputs": [],
   "source": [
    "df = pd.read_csv(\"general_data.csv\")"
   ]
  },
  {
   "cell_type": "code",
   "execution_count": 3,
   "metadata": {
    "scrolled": true
   },
   "outputs": [
    {
     "data": {
      "text/html": [
       "<div>\n",
       "<style scoped>\n",
       "    .dataframe tbody tr th:only-of-type {\n",
       "        vertical-align: middle;\n",
       "    }\n",
       "\n",
       "    .dataframe tbody tr th {\n",
       "        vertical-align: top;\n",
       "    }\n",
       "\n",
       "    .dataframe thead th {\n",
       "        text-align: right;\n",
       "    }\n",
       "</style>\n",
       "<table border=\"1\" class=\"dataframe\">\n",
       "  <thead>\n",
       "    <tr style=\"text-align: right;\">\n",
       "      <th></th>\n",
       "      <th>Age</th>\n",
       "      <th>Attrition</th>\n",
       "      <th>BusinessTravel</th>\n",
       "      <th>Department</th>\n",
       "      <th>DistanceFromHome</th>\n",
       "      <th>Education</th>\n",
       "      <th>EducationField</th>\n",
       "      <th>EmployeeCount</th>\n",
       "      <th>EmployeeID</th>\n",
       "      <th>Gender</th>\n",
       "      <th>...</th>\n",
       "      <th>NumCompaniesWorked</th>\n",
       "      <th>Over18</th>\n",
       "      <th>PercentSalaryHike</th>\n",
       "      <th>StandardHours</th>\n",
       "      <th>StockOptionLevel</th>\n",
       "      <th>TotalWorkingYears</th>\n",
       "      <th>TrainingTimesLastYear</th>\n",
       "      <th>YearsAtCompany</th>\n",
       "      <th>YearsSinceLastPromotion</th>\n",
       "      <th>YearsWithCurrManager</th>\n",
       "    </tr>\n",
       "  </thead>\n",
       "  <tbody>\n",
       "    <tr>\n",
       "      <th>0</th>\n",
       "      <td>51</td>\n",
       "      <td>No</td>\n",
       "      <td>Travel_Rarely</td>\n",
       "      <td>Sales</td>\n",
       "      <td>6</td>\n",
       "      <td>2</td>\n",
       "      <td>Life Sciences</td>\n",
       "      <td>1</td>\n",
       "      <td>1</td>\n",
       "      <td>Female</td>\n",
       "      <td>...</td>\n",
       "      <td>1.0</td>\n",
       "      <td>Y</td>\n",
       "      <td>11</td>\n",
       "      <td>8</td>\n",
       "      <td>0</td>\n",
       "      <td>1.0</td>\n",
       "      <td>6</td>\n",
       "      <td>1</td>\n",
       "      <td>0</td>\n",
       "      <td>0</td>\n",
       "    </tr>\n",
       "    <tr>\n",
       "      <th>1</th>\n",
       "      <td>31</td>\n",
       "      <td>Yes</td>\n",
       "      <td>Travel_Frequently</td>\n",
       "      <td>Research &amp; Development</td>\n",
       "      <td>10</td>\n",
       "      <td>1</td>\n",
       "      <td>Life Sciences</td>\n",
       "      <td>1</td>\n",
       "      <td>2</td>\n",
       "      <td>Female</td>\n",
       "      <td>...</td>\n",
       "      <td>0.0</td>\n",
       "      <td>Y</td>\n",
       "      <td>23</td>\n",
       "      <td>8</td>\n",
       "      <td>1</td>\n",
       "      <td>6.0</td>\n",
       "      <td>3</td>\n",
       "      <td>5</td>\n",
       "      <td>1</td>\n",
       "      <td>4</td>\n",
       "    </tr>\n",
       "    <tr>\n",
       "      <th>2</th>\n",
       "      <td>32</td>\n",
       "      <td>No</td>\n",
       "      <td>Travel_Frequently</td>\n",
       "      <td>Research &amp; Development</td>\n",
       "      <td>17</td>\n",
       "      <td>4</td>\n",
       "      <td>Other</td>\n",
       "      <td>1</td>\n",
       "      <td>3</td>\n",
       "      <td>Male</td>\n",
       "      <td>...</td>\n",
       "      <td>1.0</td>\n",
       "      <td>Y</td>\n",
       "      <td>15</td>\n",
       "      <td>8</td>\n",
       "      <td>3</td>\n",
       "      <td>5.0</td>\n",
       "      <td>2</td>\n",
       "      <td>5</td>\n",
       "      <td>0</td>\n",
       "      <td>3</td>\n",
       "    </tr>\n",
       "    <tr>\n",
       "      <th>3</th>\n",
       "      <td>38</td>\n",
       "      <td>No</td>\n",
       "      <td>Non-Travel</td>\n",
       "      <td>Research &amp; Development</td>\n",
       "      <td>2</td>\n",
       "      <td>5</td>\n",
       "      <td>Life Sciences</td>\n",
       "      <td>1</td>\n",
       "      <td>4</td>\n",
       "      <td>Male</td>\n",
       "      <td>...</td>\n",
       "      <td>3.0</td>\n",
       "      <td>Y</td>\n",
       "      <td>11</td>\n",
       "      <td>8</td>\n",
       "      <td>3</td>\n",
       "      <td>13.0</td>\n",
       "      <td>5</td>\n",
       "      <td>8</td>\n",
       "      <td>7</td>\n",
       "      <td>5</td>\n",
       "    </tr>\n",
       "    <tr>\n",
       "      <th>4</th>\n",
       "      <td>32</td>\n",
       "      <td>No</td>\n",
       "      <td>Travel_Rarely</td>\n",
       "      <td>Research &amp; Development</td>\n",
       "      <td>10</td>\n",
       "      <td>1</td>\n",
       "      <td>Medical</td>\n",
       "      <td>1</td>\n",
       "      <td>5</td>\n",
       "      <td>Male</td>\n",
       "      <td>...</td>\n",
       "      <td>4.0</td>\n",
       "      <td>Y</td>\n",
       "      <td>12</td>\n",
       "      <td>8</td>\n",
       "      <td>2</td>\n",
       "      <td>9.0</td>\n",
       "      <td>2</td>\n",
       "      <td>6</td>\n",
       "      <td>0</td>\n",
       "      <td>4</td>\n",
       "    </tr>\n",
       "  </tbody>\n",
       "</table>\n",
       "<p>5 rows × 24 columns</p>\n",
       "</div>"
      ],
      "text/plain": [
       "   Age Attrition     BusinessTravel              Department  DistanceFromHome  \\\n",
       "0   51        No      Travel_Rarely                   Sales                 6   \n",
       "1   31       Yes  Travel_Frequently  Research & Development                10   \n",
       "2   32        No  Travel_Frequently  Research & Development                17   \n",
       "3   38        No         Non-Travel  Research & Development                 2   \n",
       "4   32        No      Travel_Rarely  Research & Development                10   \n",
       "\n",
       "   Education EducationField  EmployeeCount  EmployeeID  Gender  ...  \\\n",
       "0          2  Life Sciences              1           1  Female  ...   \n",
       "1          1  Life Sciences              1           2  Female  ...   \n",
       "2          4          Other              1           3    Male  ...   \n",
       "3          5  Life Sciences              1           4    Male  ...   \n",
       "4          1        Medical              1           5    Male  ...   \n",
       "\n",
       "   NumCompaniesWorked Over18 PercentSalaryHike  StandardHours  \\\n",
       "0                 1.0      Y                11              8   \n",
       "1                 0.0      Y                23              8   \n",
       "2                 1.0      Y                15              8   \n",
       "3                 3.0      Y                11              8   \n",
       "4                 4.0      Y                12              8   \n",
       "\n",
       "   StockOptionLevel TotalWorkingYears  TrainingTimesLastYear  YearsAtCompany  \\\n",
       "0                 0               1.0                      6               1   \n",
       "1                 1               6.0                      3               5   \n",
       "2                 3               5.0                      2               5   \n",
       "3                 3              13.0                      5               8   \n",
       "4                 2               9.0                      2               6   \n",
       "\n",
       "   YearsSinceLastPromotion  YearsWithCurrManager  \n",
       "0                        0                     0  \n",
       "1                        1                     4  \n",
       "2                        0                     3  \n",
       "3                        7                     5  \n",
       "4                        0                     4  \n",
       "\n",
       "[5 rows x 24 columns]"
      ]
     },
     "execution_count": 3,
     "metadata": {},
     "output_type": "execute_result"
    }
   ],
   "source": [
    "df.head()"
   ]
  },
  {
   "cell_type": "code",
   "execution_count": 4,
   "metadata": {},
   "outputs": [
    {
     "data": {
      "text/plain": [
       "Index(['Age', 'Attrition', 'BusinessTravel', 'Department', 'DistanceFromHome',\n",
       "       'Education', 'EducationField', 'EmployeeCount', 'EmployeeID', 'Gender',\n",
       "       'JobLevel', 'JobRole', 'MaritalStatus', 'MonthlyIncome',\n",
       "       'NumCompaniesWorked', 'Over18', 'PercentSalaryHike', 'StandardHours',\n",
       "       'StockOptionLevel', 'TotalWorkingYears', 'TrainingTimesLastYear',\n",
       "       'YearsAtCompany', 'YearsSinceLastPromotion', 'YearsWithCurrManager'],\n",
       "      dtype='object')"
      ]
     },
     "execution_count": 4,
     "metadata": {},
     "output_type": "execute_result"
    }
   ],
   "source": [
    "df.columns"
   ]
  },
  {
   "cell_type": "code",
   "execution_count": 5,
   "metadata": {},
   "outputs": [
    {
     "data": {
      "text/plain": [
       "(4410, 24)"
      ]
     },
     "execution_count": 5,
     "metadata": {},
     "output_type": "execute_result"
    }
   ],
   "source": [
    "df.shape"
   ]
  },
  {
   "cell_type": "markdown",
   "metadata": {},
   "source": [
    "### Data cleaning"
   ]
  },
  {
   "cell_type": "code",
   "execution_count": 6,
   "metadata": {},
   "outputs": [
    {
     "data": {
      "text/plain": [
       "(4382, 20)"
      ]
     },
     "execution_count": 6,
     "metadata": {},
     "output_type": "execute_result"
    }
   ],
   "source": [
    "\n",
    "df=df.dropna()\n",
    "df=df.drop_duplicates()\n",
    "df=df.drop([\"StandardHours\",\"EmployeeCount\",\"EmployeeID\",\"Over18\"],axis=1)\n",
    "df.shape\n"
   ]
  },
  {
   "cell_type": "markdown",
   "metadata": {},
   "source": [
    "### Data analysis"
   ]
  },
  {
   "cell_type": "code",
   "execution_count": 7,
   "metadata": {},
   "outputs": [
    {
     "data": {
      "text/html": [
       "<div>\n",
       "<style scoped>\n",
       "    .dataframe tbody tr th:only-of-type {\n",
       "        vertical-align: middle;\n",
       "    }\n",
       "\n",
       "    .dataframe tbody tr th {\n",
       "        vertical-align: top;\n",
       "    }\n",
       "\n",
       "    .dataframe thead th {\n",
       "        text-align: right;\n",
       "    }\n",
       "</style>\n",
       "<table border=\"1\" class=\"dataframe\">\n",
       "  <thead>\n",
       "    <tr style=\"text-align: right;\">\n",
       "      <th></th>\n",
       "      <th>mean</th>\n",
       "      <th>median</th>\n",
       "      <th>kurt</th>\n",
       "      <th>skew</th>\n",
       "    </tr>\n",
       "  </thead>\n",
       "  <tbody>\n",
       "    <tr>\n",
       "      <th>Age</th>\n",
       "      <td>36.933364</td>\n",
       "      <td>36.0</td>\n",
       "      <td>-0.409517</td>\n",
       "      <td>0.413048</td>\n",
       "    </tr>\n",
       "    <tr>\n",
       "      <th>DistanceFromHome</th>\n",
       "      <td>9.198996</td>\n",
       "      <td>7.0</td>\n",
       "      <td>-0.230691</td>\n",
       "      <td>0.955517</td>\n",
       "    </tr>\n",
       "    <tr>\n",
       "      <th>Education</th>\n",
       "      <td>2.912369</td>\n",
       "      <td>3.0</td>\n",
       "      <td>-0.565008</td>\n",
       "      <td>-0.288977</td>\n",
       "    </tr>\n",
       "    <tr>\n",
       "      <th>JobLevel</th>\n",
       "      <td>2.063898</td>\n",
       "      <td>2.0</td>\n",
       "      <td>0.388189</td>\n",
       "      <td>1.021797</td>\n",
       "    </tr>\n",
       "    <tr>\n",
       "      <th>MonthlyIncome</th>\n",
       "      <td>65061.702419</td>\n",
       "      <td>49190.0</td>\n",
       "      <td>0.990836</td>\n",
       "      <td>1.367457</td>\n",
       "    </tr>\n",
       "    <tr>\n",
       "      <th>NumCompaniesWorked</th>\n",
       "      <td>2.693291</td>\n",
       "      <td>2.0</td>\n",
       "      <td>0.014307</td>\n",
       "      <td>1.029174</td>\n",
       "    </tr>\n",
       "    <tr>\n",
       "      <th>PercentSalaryHike</th>\n",
       "      <td>15.210634</td>\n",
       "      <td>14.0</td>\n",
       "      <td>-0.306951</td>\n",
       "      <td>0.819510</td>\n",
       "    </tr>\n",
       "    <tr>\n",
       "      <th>StockOptionLevel</th>\n",
       "      <td>0.794614</td>\n",
       "      <td>1.0</td>\n",
       "      <td>0.356755</td>\n",
       "      <td>0.967263</td>\n",
       "    </tr>\n",
       "    <tr>\n",
       "      <th>TotalWorkingYears</th>\n",
       "      <td>11.290278</td>\n",
       "      <td>10.0</td>\n",
       "      <td>0.909316</td>\n",
       "      <td>1.115419</td>\n",
       "    </tr>\n",
       "    <tr>\n",
       "      <th>TrainingTimesLastYear</th>\n",
       "      <td>2.798266</td>\n",
       "      <td>3.0</td>\n",
       "      <td>0.494215</td>\n",
       "      <td>0.551818</td>\n",
       "    </tr>\n",
       "    <tr>\n",
       "      <th>YearsAtCompany</th>\n",
       "      <td>7.010497</td>\n",
       "      <td>5.0</td>\n",
       "      <td>3.930726</td>\n",
       "      <td>1.764619</td>\n",
       "    </tr>\n",
       "    <tr>\n",
       "      <th>YearsSinceLastPromotion</th>\n",
       "      <td>2.191693</td>\n",
       "      <td>1.0</td>\n",
       "      <td>3.592162</td>\n",
       "      <td>1.980992</td>\n",
       "    </tr>\n",
       "    <tr>\n",
       "      <th>YearsWithCurrManager</th>\n",
       "      <td>4.126198</td>\n",
       "      <td>3.0</td>\n",
       "      <td>0.170703</td>\n",
       "      <td>0.834277</td>\n",
       "    </tr>\n",
       "  </tbody>\n",
       "</table>\n",
       "</div>"
      ],
      "text/plain": [
       "                                 mean   median      kurt      skew\n",
       "Age                         36.933364     36.0 -0.409517  0.413048\n",
       "DistanceFromHome             9.198996      7.0 -0.230691  0.955517\n",
       "Education                    2.912369      3.0 -0.565008 -0.288977\n",
       "JobLevel                     2.063898      2.0  0.388189  1.021797\n",
       "MonthlyIncome            65061.702419  49190.0  0.990836  1.367457\n",
       "NumCompaniesWorked           2.693291      2.0  0.014307  1.029174\n",
       "PercentSalaryHike           15.210634     14.0 -0.306951  0.819510\n",
       "StockOptionLevel             0.794614      1.0  0.356755  0.967263\n",
       "TotalWorkingYears           11.290278     10.0  0.909316  1.115419\n",
       "TrainingTimesLastYear        2.798266      3.0  0.494215  0.551818\n",
       "YearsAtCompany               7.010497      5.0  3.930726  1.764619\n",
       "YearsSinceLastPromotion      2.191693      1.0  3.592162  1.980992\n",
       "YearsWithCurrManager         4.126198      3.0  0.170703  0.834277"
      ]
     },
     "execution_count": 7,
     "metadata": {},
     "output_type": "execute_result"
    }
   ],
   "source": [
    "a=pd.DataFrame({\"mean\":df.mean(),\"median\":df.median(),\"kurt\":df.kurt(),\"skew\":df.skew()})\n",
    "a"
   ]
  },
  {
   "cell_type": "code",
   "execution_count": 8,
   "metadata": {
    "scrolled": true
   },
   "outputs": [
    {
     "data": {
      "text/html": [
       "<div>\n",
       "<style scoped>\n",
       "    .dataframe tbody tr th:only-of-type {\n",
       "        vertical-align: middle;\n",
       "    }\n",
       "\n",
       "    .dataframe tbody tr th {\n",
       "        vertical-align: top;\n",
       "    }\n",
       "\n",
       "    .dataframe thead th {\n",
       "        text-align: right;\n",
       "    }\n",
       "</style>\n",
       "<table border=\"1\" class=\"dataframe\">\n",
       "  <thead>\n",
       "    <tr style=\"text-align: right;\">\n",
       "      <th></th>\n",
       "      <th>Age</th>\n",
       "      <th>Attrition</th>\n",
       "      <th>BusinessTravel</th>\n",
       "      <th>Department</th>\n",
       "      <th>DistanceFromHome</th>\n",
       "      <th>Education</th>\n",
       "      <th>EducationField</th>\n",
       "      <th>Gender</th>\n",
       "      <th>JobLevel</th>\n",
       "      <th>JobRole</th>\n",
       "      <th>MaritalStatus</th>\n",
       "      <th>MonthlyIncome</th>\n",
       "      <th>NumCompaniesWorked</th>\n",
       "      <th>PercentSalaryHike</th>\n",
       "      <th>StockOptionLevel</th>\n",
       "      <th>TotalWorkingYears</th>\n",
       "      <th>TrainingTimesLastYear</th>\n",
       "      <th>YearsAtCompany</th>\n",
       "      <th>YearsSinceLastPromotion</th>\n",
       "      <th>YearsWithCurrManager</th>\n",
       "    </tr>\n",
       "  </thead>\n",
       "  <tbody>\n",
       "    <tr>\n",
       "      <th>0</th>\n",
       "      <td>35</td>\n",
       "      <td>No</td>\n",
       "      <td>Travel_Rarely</td>\n",
       "      <td>Research &amp; Development</td>\n",
       "      <td>2</td>\n",
       "      <td>3</td>\n",
       "      <td>Life Sciences</td>\n",
       "      <td>Male</td>\n",
       "      <td>1</td>\n",
       "      <td>Sales Executive</td>\n",
       "      <td>Married</td>\n",
       "      <td>23420</td>\n",
       "      <td>1.0</td>\n",
       "      <td>11</td>\n",
       "      <td>0</td>\n",
       "      <td>10.0</td>\n",
       "      <td>2</td>\n",
       "      <td>5</td>\n",
       "      <td>0</td>\n",
       "      <td>2</td>\n",
       "    </tr>\n",
       "  </tbody>\n",
       "</table>\n",
       "</div>"
      ],
      "text/plain": [
       "   Age Attrition BusinessTravel              Department  DistanceFromHome  \\\n",
       "0   35        No  Travel_Rarely  Research & Development                 2   \n",
       "\n",
       "   Education EducationField Gender  JobLevel          JobRole MaritalStatus  \\\n",
       "0          3  Life Sciences   Male         1  Sales Executive       Married   \n",
       "\n",
       "   MonthlyIncome  NumCompaniesWorked  PercentSalaryHike  StockOptionLevel  \\\n",
       "0          23420                 1.0                 11                 0   \n",
       "\n",
       "   TotalWorkingYears  TrainingTimesLastYear  YearsAtCompany  \\\n",
       "0               10.0                      2               5   \n",
       "\n",
       "   YearsSinceLastPromotion  YearsWithCurrManager  \n",
       "0                        0                     2  "
      ]
     },
     "execution_count": 8,
     "metadata": {},
     "output_type": "execute_result"
    }
   ],
   "source": [
    "df.mode()"
   ]
  },
  {
   "cell_type": "markdown",
   "metadata": {},
   "source": [
    "#### from above approximating mean median and mode we found that \"Age\" follows normal distribution\n",
    "\n"
   ]
  },
  {
   "cell_type": "code",
   "execution_count": 9,
   "metadata": {},
   "outputs": [
    {
     "data": {
      "text/html": [
       "<div>\n",
       "<style scoped>\n",
       "    .dataframe tbody tr th:only-of-type {\n",
       "        vertical-align: middle;\n",
       "    }\n",
       "\n",
       "    .dataframe tbody tr th {\n",
       "        vertical-align: top;\n",
       "    }\n",
       "\n",
       "    .dataframe thead th {\n",
       "        text-align: right;\n",
       "    }\n",
       "</style>\n",
       "<table border=\"1\" class=\"dataframe\">\n",
       "  <thead>\n",
       "    <tr style=\"text-align: right;\">\n",
       "      <th></th>\n",
       "      <th>Age</th>\n",
       "      <th>DistanceFromHome</th>\n",
       "      <th>Education</th>\n",
       "      <th>JobLevel</th>\n",
       "      <th>MonthlyIncome</th>\n",
       "      <th>NumCompaniesWorked</th>\n",
       "      <th>PercentSalaryHike</th>\n",
       "      <th>StockOptionLevel</th>\n",
       "      <th>TotalWorkingYears</th>\n",
       "      <th>TrainingTimesLastYear</th>\n",
       "      <th>YearsAtCompany</th>\n",
       "      <th>YearsSinceLastPromotion</th>\n",
       "      <th>YearsWithCurrManager</th>\n",
       "    </tr>\n",
       "  </thead>\n",
       "  <tbody>\n",
       "    <tr>\n",
       "      <th>count</th>\n",
       "      <td>4382.000000</td>\n",
       "      <td>4382.000000</td>\n",
       "      <td>4382.000000</td>\n",
       "      <td>4382.000000</td>\n",
       "      <td>4382.000000</td>\n",
       "      <td>4382.000000</td>\n",
       "      <td>4382.000000</td>\n",
       "      <td>4382.000000</td>\n",
       "      <td>4382.000000</td>\n",
       "      <td>4382.000000</td>\n",
       "      <td>4382.000000</td>\n",
       "      <td>4382.000000</td>\n",
       "      <td>4382.000000</td>\n",
       "    </tr>\n",
       "    <tr>\n",
       "      <th>mean</th>\n",
       "      <td>36.933364</td>\n",
       "      <td>9.198996</td>\n",
       "      <td>2.912369</td>\n",
       "      <td>2.063898</td>\n",
       "      <td>65061.702419</td>\n",
       "      <td>2.693291</td>\n",
       "      <td>15.210634</td>\n",
       "      <td>0.794614</td>\n",
       "      <td>11.290278</td>\n",
       "      <td>2.798266</td>\n",
       "      <td>7.010497</td>\n",
       "      <td>2.191693</td>\n",
       "      <td>4.126198</td>\n",
       "    </tr>\n",
       "    <tr>\n",
       "      <th>std</th>\n",
       "      <td>9.137272</td>\n",
       "      <td>8.105396</td>\n",
       "      <td>1.024728</td>\n",
       "      <td>1.106115</td>\n",
       "      <td>47142.310175</td>\n",
       "      <td>2.497832</td>\n",
       "      <td>3.663007</td>\n",
       "      <td>0.852397</td>\n",
       "      <td>7.785717</td>\n",
       "      <td>1.289402</td>\n",
       "      <td>6.129351</td>\n",
       "      <td>3.224994</td>\n",
       "      <td>3.569674</td>\n",
       "    </tr>\n",
       "    <tr>\n",
       "      <th>min</th>\n",
       "      <td>18.000000</td>\n",
       "      <td>1.000000</td>\n",
       "      <td>1.000000</td>\n",
       "      <td>1.000000</td>\n",
       "      <td>10090.000000</td>\n",
       "      <td>0.000000</td>\n",
       "      <td>11.000000</td>\n",
       "      <td>0.000000</td>\n",
       "      <td>0.000000</td>\n",
       "      <td>0.000000</td>\n",
       "      <td>0.000000</td>\n",
       "      <td>0.000000</td>\n",
       "      <td>0.000000</td>\n",
       "    </tr>\n",
       "    <tr>\n",
       "      <th>25%</th>\n",
       "      <td>30.000000</td>\n",
       "      <td>2.000000</td>\n",
       "      <td>2.000000</td>\n",
       "      <td>1.000000</td>\n",
       "      <td>29110.000000</td>\n",
       "      <td>1.000000</td>\n",
       "      <td>12.000000</td>\n",
       "      <td>0.000000</td>\n",
       "      <td>6.000000</td>\n",
       "      <td>2.000000</td>\n",
       "      <td>3.000000</td>\n",
       "      <td>0.000000</td>\n",
       "      <td>2.000000</td>\n",
       "    </tr>\n",
       "    <tr>\n",
       "      <th>50%</th>\n",
       "      <td>36.000000</td>\n",
       "      <td>7.000000</td>\n",
       "      <td>3.000000</td>\n",
       "      <td>2.000000</td>\n",
       "      <td>49190.000000</td>\n",
       "      <td>2.000000</td>\n",
       "      <td>14.000000</td>\n",
       "      <td>1.000000</td>\n",
       "      <td>10.000000</td>\n",
       "      <td>3.000000</td>\n",
       "      <td>5.000000</td>\n",
       "      <td>1.000000</td>\n",
       "      <td>3.000000</td>\n",
       "    </tr>\n",
       "    <tr>\n",
       "      <th>75%</th>\n",
       "      <td>43.000000</td>\n",
       "      <td>14.000000</td>\n",
       "      <td>4.000000</td>\n",
       "      <td>3.000000</td>\n",
       "      <td>83790.000000</td>\n",
       "      <td>4.000000</td>\n",
       "      <td>18.000000</td>\n",
       "      <td>1.000000</td>\n",
       "      <td>15.000000</td>\n",
       "      <td>3.000000</td>\n",
       "      <td>9.000000</td>\n",
       "      <td>3.000000</td>\n",
       "      <td>7.000000</td>\n",
       "    </tr>\n",
       "    <tr>\n",
       "      <th>max</th>\n",
       "      <td>60.000000</td>\n",
       "      <td>29.000000</td>\n",
       "      <td>5.000000</td>\n",
       "      <td>5.000000</td>\n",
       "      <td>199990.000000</td>\n",
       "      <td>9.000000</td>\n",
       "      <td>25.000000</td>\n",
       "      <td>3.000000</td>\n",
       "      <td>40.000000</td>\n",
       "      <td>6.000000</td>\n",
       "      <td>40.000000</td>\n",
       "      <td>15.000000</td>\n",
       "      <td>17.000000</td>\n",
       "    </tr>\n",
       "  </tbody>\n",
       "</table>\n",
       "</div>"
      ],
      "text/plain": [
       "               Age  DistanceFromHome    Education     JobLevel  MonthlyIncome  \\\n",
       "count  4382.000000       4382.000000  4382.000000  4382.000000    4382.000000   \n",
       "mean     36.933364          9.198996     2.912369     2.063898   65061.702419   \n",
       "std       9.137272          8.105396     1.024728     1.106115   47142.310175   \n",
       "min      18.000000          1.000000     1.000000     1.000000   10090.000000   \n",
       "25%      30.000000          2.000000     2.000000     1.000000   29110.000000   \n",
       "50%      36.000000          7.000000     3.000000     2.000000   49190.000000   \n",
       "75%      43.000000         14.000000     4.000000     3.000000   83790.000000   \n",
       "max      60.000000         29.000000     5.000000     5.000000  199990.000000   \n",
       "\n",
       "       NumCompaniesWorked  PercentSalaryHike  StockOptionLevel  \\\n",
       "count         4382.000000        4382.000000       4382.000000   \n",
       "mean             2.693291          15.210634          0.794614   \n",
       "std              2.497832           3.663007          0.852397   \n",
       "min              0.000000          11.000000          0.000000   \n",
       "25%              1.000000          12.000000          0.000000   \n",
       "50%              2.000000          14.000000          1.000000   \n",
       "75%              4.000000          18.000000          1.000000   \n",
       "max              9.000000          25.000000          3.000000   \n",
       "\n",
       "       TotalWorkingYears  TrainingTimesLastYear  YearsAtCompany  \\\n",
       "count        4382.000000            4382.000000     4382.000000   \n",
       "mean           11.290278               2.798266        7.010497   \n",
       "std             7.785717               1.289402        6.129351   \n",
       "min             0.000000               0.000000        0.000000   \n",
       "25%             6.000000               2.000000        3.000000   \n",
       "50%            10.000000               3.000000        5.000000   \n",
       "75%            15.000000               3.000000        9.000000   \n",
       "max            40.000000               6.000000       40.000000   \n",
       "\n",
       "       YearsSinceLastPromotion  YearsWithCurrManager  \n",
       "count              4382.000000           4382.000000  \n",
       "mean                  2.191693              4.126198  \n",
       "std                   3.224994              3.569674  \n",
       "min                   0.000000              0.000000  \n",
       "25%                   0.000000              2.000000  \n",
       "50%                   1.000000              3.000000  \n",
       "75%                   3.000000              7.000000  \n",
       "max                  15.000000             17.000000  "
      ]
     },
     "execution_count": 9,
     "metadata": {},
     "output_type": "execute_result"
    }
   ],
   "source": [
    "df.describe()"
   ]
  },
  {
   "cell_type": "code",
   "execution_count": 10,
   "metadata": {},
   "outputs": [],
   "source": [
    "df_yes=df[df[\"Attrition\"]==\"Yes\"]\n",
    "df_no=df[df[\"Attrition\"]==\"No\"]"
   ]
  },
  {
   "cell_type": "markdown",
   "metadata": {},
   "source": [
    "### Distributions of variables"
   ]
  },
  {
   "cell_type": "code",
   "execution_count": 11,
   "metadata": {},
   "outputs": [],
   "source": [
    "import seaborn as sns\n",
    "import matplotlib.pyplot as plt\n"
   ]
  },
  {
   "cell_type": "code",
   "execution_count": 12,
   "metadata": {},
   "outputs": [],
   "source": [
    "sns.set()\n",
    "%matplotlib inline"
   ]
  },
  {
   "cell_type": "markdown",
   "metadata": {},
   "source": [
    "#### Age:"
   ]
  },
  {
   "cell_type": "code",
   "execution_count": 13,
   "metadata": {},
   "outputs": [
    {
     "data": {
      "image/png": "[encoded data removed]",
      "text/plain": [
       "<Figure size 720x360 with 2 Axes>"
      ]
     },
     "metadata": {
      "needs_background": "light"
     },
     "output_type": "display_data"
    }
   ],
   "source": [
    "fig, axs = plt.subplots(ncols=2,figsize=(10,5))\n",
    "sns.distplot(df[\"Age\"],hist=True,bins=range(10,61,10),kde=False,color=\"green\",ax=axs[0])\n",
    "sns.boxplot(\"Age\",data=df, ax=axs[1]);"
   ]
  },
  {
   "cell_type": "markdown",
   "metadata": {},
   "source": [
    "- **we can observe that Age variable can be approximated to a normal distribution**\n",
    "- **maximum attrition is taking place in age group of 25-35 years.**"
   ]
  },
  {
   "cell_type": "markdown",
   "metadata": {},
   "source": [
    "#### MonthlyIncome:"
   ]
  },
  {
   "cell_type": "code",
   "execution_count": 14,
   "metadata": {
    "scrolled": true
   },
   "outputs": [
    {
     "data": {
      "image/png": "[encoded data removed]",
      "text/plain": [
       "<Figure size 720x360 with 2 Axes>"
      ]
     },
     "metadata": {
      "needs_background": "light"
     },
     "output_type": "display_data"
    }
   ],
   "source": [
    "fig, axs = plt.subplots(ncols=2,figsize=(10,5)) \n",
    "sns.distplot(df[\"MonthlyIncome\"],hist=True,bins=range(0,200000,20000),color=\"green\", ax=axs[0])\n",
    "sns.boxplot(\"MonthlyIncome\",data=df, ax=axs[1]);"
   ]
  },
  {
   "cell_type": "code",
   "execution_count": 15,
   "metadata": {
    "scrolled": true
   },
   "outputs": [
    {
     "data": {
      "image/png": "[encoded data removed]",
      "text/plain": [
       "<Figure size 720x360 with 2 Axes>"
      ]
     },
     "metadata": {
      "needs_background": "light"
     },
     "output_type": "display_data"
    }
   ],
   "source": [
    "fig, axs = plt.subplots(ncols=2,figsize=(10,5)) \n",
    "sns.distplot(df_yes[\"MonthlyIncome\"],hist=True,bins=range(0,200000,20000),color=\"green\", ax=axs[0])\n",
    "sns.boxplot(\"MonthlyIncome\",data=df_yes, ax=axs[1]);"
   ]
  },
  {
   "cell_type": "markdown",
   "metadata": {},
   "source": [
    "- **we can observe that MonthlyIncome is right skewed with some outliers in the higher range**\n",
    "- **Employess having MonthlyIncome in range of 25000 to 75000 are more probable to resign**"
   ]
  },
  {
   "cell_type": "markdown",
   "metadata": {},
   "source": [
    "#### PercentSalaryHike"
   ]
  },
  {
   "cell_type": "code",
   "execution_count": 16,
   "metadata": {
    "scrolled": true
   },
   "outputs": [
    {
     "data": {
      "image/png": "[encoded data removed]",
      "text/plain": [
       "<Figure size 720x360 with 2 Axes>"
      ]
     },
     "metadata": {
      "needs_background": "light"
     },
     "output_type": "display_data"
    }
   ],
   "source": [
    "fig, axs = plt.subplots(ncols=2,figsize=(10,5))\n",
    "g=sns.distplot(df[\"PercentSalaryHike\"],hist=True,bins=range(10,30),color=\"green\",ax=axs[0])\n",
    "g.set_xticks(range(10,30,2))\n",
    "sns.boxplot(\"PercentSalaryHike\",data=df, ax=axs[1]);"
   ]
  },
  {
   "cell_type": "markdown",
   "metadata": {},
   "source": [
    "- **we can observe that PercentSalaryHike also follows right skewed distribution with maximum values in range of (12-14%)**"
   ]
  },
  {
   "cell_type": "markdown",
   "metadata": {},
   "source": [
    "#### Department"
   ]
  },
  {
   "cell_type": "code",
   "execution_count": 17,
   "metadata": {},
   "outputs": [
    {
     "data": {
      "image/png": "[encoded data removed]",
      "text/plain": [
       "<Figure size 598.459x360 with 1 Axes>"
      ]
     },
     "metadata": {
      "needs_background": "light"
     },
     "output_type": "display_data"
    }
   ],
   "source": [
    "sns.catplot(x=\"Department\",hue=\"Attrition\",data=df,kind=\"count\",hue_order=[\"Yes\",\"No\"],palette=\"rocket\",aspect=1.5);"
   ]
  },
  {
   "cell_type": "markdown",
   "metadata": {},
   "source": [
    "- **we can observe that Attrition rate is comparitively higher in Human Resources department than the other two.**\n",
    "- **Maximum number of employees work in Research &Development department.**\n",
    "- **Almost half of employees working in Human Resources tend to resign contributing to Attrition.**\n"
   ]
  },
  {
   "cell_type": "markdown",
   "metadata": {},
   "source": [
    "#### BusinessTravel"
   ]
  },
  {
   "cell_type": "code",
   "execution_count": 18,
   "metadata": {
    "scrolled": false
   },
   "outputs": [
    {
     "data": {
      "image/png": "[encoded data removed]",
      "text/plain": [
       "<Figure size 598.459x360 with 1 Axes>"
      ]
     },
     "metadata": {
      "needs_background": "light"
     },
     "output_type": "display_data"
    }
   ],
   "source": [
    "sns.catplot(x=\"BusinessTravel\",hue=\"Attrition\",data=df,kind=\"count\",hue_order=[\"Yes\",\"No\"],palette=\"rocket\",aspect=1.5);"
   ]
  },
  {
   "cell_type": "markdown",
   "metadata": {},
   "source": [
    "- **Attrition rate is comparitively higher in employees who travel Frequently.** "
   ]
  },
  {
   "cell_type": "markdown",
   "metadata": {},
   "source": [
    "#### Gender"
   ]
  },
  {
   "cell_type": "code",
   "execution_count": 19,
   "metadata": {
    "scrolled": true
   },
   "outputs": [
    {
     "data": {
      "image/png": "[encoded data removed]",
      "text/plain": [
       "<Figure size 418.459x360 with 1 Axes>"
      ]
     },
     "metadata": {
      "needs_background": "light"
     },
     "output_type": "display_data"
    }
   ],
   "source": [
    "sns.catplot(x=\"Gender\",hue=\"Attrition\",data=df,kind=\"count\",hue_order=[\"Yes\",\"No\"],palette=\"rocket\",aspect=1);"
   ]
  },
  {
   "cell_type": "markdown",
   "metadata": {},
   "source": [
    "- **Male employees are higher in number compared to female employees.**\n",
    "- **But there is no significant change in Attrition rate.**"
   ]
  },
  {
   "cell_type": "markdown",
   "metadata": {},
   "source": [
    "#### JobRole"
   ]
  },
  {
   "cell_type": "code",
   "execution_count": 20,
   "metadata": {},
   "outputs": [
    {
     "data": {
      "text/plain": [
       "Sales Executive              975\n",
       "Research Scientist           872\n",
       "Laboratory Technician        773\n",
       "Manufacturing Director       429\n",
       "Healthcare Representative    389\n",
       "Manager                      305\n",
       "Sales Representative         246\n",
       "Research Director            237\n",
       "Human Resources              156\n",
       "Name: JobRole, dtype: int64"
      ]
     },
     "execution_count": 20,
     "metadata": {},
     "output_type": "execute_result"
    }
   ],
   "source": [
    "df[\"JobRole\"].value_counts()"
   ]
  },
  {
   "cell_type": "code",
   "execution_count": 21,
   "metadata": {
    "scrolled": false
   },
   "outputs": [
    {
     "data": {
      "image/png": "[encoded data removed]",
      "text/plain": [
       "<Figure size 1210.46x360 with 1 Axes>"
      ]
     },
     "metadata": {
      "needs_background": "light"
     },
     "output_type": "display_data"
    }
   ],
   "source": [
    "sns.catplot(x=\"JobRole\",hue=\"Attrition\",data=df,kind=\"count\",hue_order=[\"Yes\",\"No\"],palette=\"rocket\",aspect=3.2);\n"
   ]
  },
  {
   "cell_type": "markdown",
   "metadata": {},
   "source": [
    "#### MaritalStatus"
   ]
  },
  {
   "cell_type": "code",
   "execution_count": 22,
   "metadata": {},
   "outputs": [
    {
     "data": {
      "image/png": "[encoded data removed]",
      "text/plain": [
       "<Figure size 598.459x360 with 1 Axes>"
      ]
     },
     "metadata": {
      "needs_background": "light"
     },
     "output_type": "display_data"
    }
   ],
   "source": [
    "sns.catplot(x=\"MaritalStatus\",hue=\"Attrition\",data=df,kind=\"count\",hue_order=[\"Yes\",\"No\"],palette=\"rocket\",aspect=1.5);"
   ]
  },
  {
   "cell_type": "markdown",
   "metadata": {},
   "source": [
    "- **Employees who are single tend to contribute to high Attrition rate than married or divorced employees.**"
   ]
  },
  {
   "cell_type": "code",
   "execution_count": 23,
   "metadata": {},
   "outputs": [],
   "source": [
    "### Multivariate Analysis:"
   ]
  },
  {
   "cell_type": "code",
   "execution_count": 24,
   "metadata": {},
   "outputs": [
    {
     "data": {
      "text/plain": [
       "<seaborn.axisgrid.FacetGrid at 0x2b5b3133e48>"
      ]
     },
     "execution_count": 24,
     "metadata": {},
     "output_type": "execute_result"
    },
    {
     "data": {
      "image/png": "[encoded data removed]",
      "text/plain": [
       "<Figure size 490.459x360 with 1 Axes>"
      ]
     },
     "metadata": {
      "needs_background": "light"
     },
     "output_type": "display_data"
    }
   ],
   "source": [
    "sns.catplot(x=\"Department\",y=\"MonthlyIncome\",hue=\"Attrition\",data=df,kind=\"box\",aspect=1.2)"
   ]
  },
  {
   "cell_type": "code",
   "execution_count": 25,
   "metadata": {},
   "outputs": [
    {
     "data": {
      "text/plain": [
       "<seaborn.axisgrid.FacetGrid at 0x2b5b322c508>"
      ]
     },
     "execution_count": 25,
     "metadata": {},
     "output_type": "execute_result"
    },
    {
     "data": {
      "image/png": "[encoded data removed]",
      "text/plain": [
       "<Figure size 617.35x360 with 1 Axes>"
      ]
     },
     "metadata": {
      "needs_background": "light"
     },
     "output_type": "display_data"
    }
   ],
   "source": [
    "sns.relplot(\"MonthlyIncome\",\"Age\",data=df,hue=\"Attrition\",aspect=1.5)"
   ]
  },
  {
   "cell_type": "markdown",
   "metadata": {},
   "source": [
    "### Analysis"
   ]
  },
  {
   "cell_type": "code",
   "execution_count": 26,
   "metadata": {},
   "outputs": [],
   "source": [
    "from sklearn import preprocessing"
   ]
  },
  {
   "cell_type": "code",
   "execution_count": 27,
   "metadata": {},
   "outputs": [],
   "source": [
    "Label_encoder= preprocessing.LabelEncoder()"
   ]
  },
  {
   "cell_type": "code",
   "execution_count": 28,
   "metadata": {},
   "outputs": [],
   "source": [
    "df[\"Attrition\"]=Label_encoder.fit_transform(df[\"Attrition\"])"
   ]
  },
  {
   "cell_type": "code",
   "execution_count": 29,
   "metadata": {},
   "outputs": [],
   "source": [
    "## variables\n",
    "cnv=['Age','DistanceFromHome','MonthlyIncome']## continuous\n",
    "onv=['DistanceFromHome','NumCompaniesWorked','PercentSalaryHike','JobLevel','Education','YearsSinceLastPromotion','YearsAtCompany','YearsWithCurrManager','StockOptionLevel','TrainingTimesLastYear']\n",
    "nv=cnv+onv## categorical\n",
    "cv=['BusinessTravel', 'Department','Gender','JobRole','EducationField','MaritalStatus']\n",
    "av=nv+cv## all except Attrition\n"
   ]
  },
  {
   "cell_type": "markdown",
   "metadata": {},
   "source": [
    "## Statistical Tests:"
   ]
  },
  {
   "cell_type": "markdown",
   "metadata": {},
   "source": [
    "### 1. mannwhitney test"
   ]
  },
  {
   "cell_type": "code",
   "execution_count": 30,
   "metadata": {},
   "outputs": [
    {
     "name": "stdout",
     "output_type": "stream",
     "text": [
      "['Age', 'DistanceFromHome', 'MonthlyIncome', 'DistanceFromHome', 'NumCompaniesWorked', 'PercentSalaryHike', 'JobLevel', 'Education', 'YearsSinceLastPromotion', 'YearsAtCompany', 'YearsWithCurrManager', 'StockOptionLevel', 'TrainingTimesLastYear', 'BusinessTravel', 'Department', 'Gender', 'JobRole', 'EducationField', 'MaritalStatus'] "
     ]
    }
   ],
   "source": [
    "print(av,end=\" \")"
   ]
  },
  {
   "cell_type": "code",
   "execution_count": 31,
   "metadata": {},
   "outputs": [],
   "source": [
    "from scipy.stats import mannwhitneyu"
   ]
  },
  {
   "cell_type": "code",
   "execution_count": 32,
   "metadata": {
    "scrolled": false
   },
   "outputs": [
    {
     "name": "stdout",
     "output_type": "stream",
     "text": [
      "Null Hypothesis: there is no significant difference in Age of Attrition(=Yes) and Attrition(=No)\n",
      "Alternate Hypothesis: there is significant difference in Age of Attrition(=Yes) and Attrition(=No)\n",
      "stats = 949178.0 and p = 7.98668614365882e-30\n",
      "7.98668614365882e-30 < 0.05--> Reject Null Hypothesis and accept Alternative Hypothesis\n",
      "there is significant difference in Age of Attrition(=Yes) and Attrition(=No)\n",
      "\n",
      "\n",
      "Null Hypothesis: there is no significant difference in DistanceFromHome of Attrition(=Yes) and Attrition(=No)\n",
      "Alternate Hypothesis: there is significant difference in DistanceFromHome of Attrition(=Yes) and Attrition(=No)\n",
      "stats = 1295261.0 and p = 0.488538986087403\n",
      "0.488538986087403 > 0.05--> Accept Null Hypothesis and reject Alternative Hypothesis\n",
      "there is no significant difference in DistanceFromHome of Attrition(=Yes) and Attrition(=No)\n",
      "\n",
      "\n",
      "Null Hypothesis: there is no significant difference in MonthlyIncome of Attrition(=Yes) and Attrition(=No)\n",
      "Alternate Hypothesis: there is significant difference in MonthlyIncome of Attrition(=Yes) and Attrition(=No)\n",
      "stats = 1249573.5 and p = 0.06508807631576838\n",
      "0.06508807631576838 > 0.05--> Accept Null Hypothesis and reject Alternative Hypothesis\n",
      "there is no significant difference in MonthlyIncome of Attrition(=Yes) and Attrition(=No)\n",
      "\n",
      "\n",
      "Null Hypothesis: there is no significant difference in DistanceFromHome of Attrition(=Yes) and Attrition(=No)\n",
      "Alternate Hypothesis: there is significant difference in DistanceFromHome of Attrition(=Yes) and Attrition(=No)\n",
      "stats = 1295261.0 and p = 0.488538986087403\n",
      "0.488538986087403 > 0.05--> Accept Null Hypothesis and reject Alternative Hypothesis\n",
      "there is no significant difference in DistanceFromHome of Attrition(=Yes) and Attrition(=No)\n",
      "\n",
      "\n",
      "Null Hypothesis: there is no significant difference in NumCompaniesWorked of Attrition(=Yes) and Attrition(=No)\n",
      "Alternate Hypothesis: there is significant difference in NumCompaniesWorked of Attrition(=Yes) and Attrition(=No)\n",
      "stats = 1238814.5 and p = 0.02793197853866981\n",
      "0.02793197853866981 < 0.05--> Reject Null Hypothesis and accept Alternative Hypothesis\n",
      "there is significant difference in NumCompaniesWorked of Attrition(=Yes) and Attrition(=No)\n",
      "\n",
      "\n",
      "Null Hypothesis: there is no significant difference in PercentSalaryHike of Attrition(=Yes) and Attrition(=No)\n",
      "Alternate Hypothesis: there is significant difference in PercentSalaryHike of Attrition(=Yes) and Attrition(=No)\n",
      "stats = 1231873.5 and p = 0.017810794960084964\n",
      "0.017810794960084964 < 0.05--> Reject Null Hypothesis and accept Alternative Hypothesis\n",
      "there is significant difference in PercentSalaryHike of Attrition(=Yes) and Attrition(=No)\n",
      "\n",
      "\n",
      "Null Hypothesis: there is no significant difference in JobLevel of Attrition(=Yes) and Attrition(=No)\n",
      "Alternate Hypothesis: there is significant difference in JobLevel of Attrition(=Yes) and Attrition(=No)\n",
      "stats = 1288305.5 and p = 0.3940631141019965\n",
      "0.3940631141019965 > 0.05--> Accept Null Hypothesis and reject Alternative Hypothesis\n",
      "there is no significant difference in JobLevel of Attrition(=Yes) and Attrition(=No)\n",
      "\n",
      "\n",
      "Null Hypothesis: there is no significant difference in Education of Attrition(=Yes) and Attrition(=No)\n",
      "Alternate Hypothesis: there is significant difference in Education of Attrition(=Yes) and Attrition(=No)\n",
      "stats = 1258277.0 and p = 0.09888570408770686\n",
      "0.09888570408770686 > 0.05--> Accept Null Hypothesis and reject Alternative Hypothesis\n",
      "there is no significant difference in Education of Attrition(=Yes) and Attrition(=No)\n",
      "\n",
      "\n",
      "Null Hypothesis: there is no significant difference in YearsSinceLastPromotion of Attrition(=Yes) and Attrition(=No)\n",
      "Alternate Hypothesis: there is significant difference in YearsSinceLastPromotion of Attrition(=Yes) and Attrition(=No)\n",
      "stats = 1196606.0 and p = 0.00037904698157957496\n",
      "0.00037904698157957496 < 0.05--> Reject Null Hypothesis and accept Alternative Hypothesis\n",
      "there is significant difference in YearsSinceLastPromotion of Attrition(=Yes) and Attrition(=No)\n",
      "\n",
      "\n",
      "Null Hypothesis: there is no significant difference in YearsAtCompany of Attrition(=Yes) and Attrition(=No)\n",
      "Alternate Hypothesis: there is significant difference in YearsAtCompany of Attrition(=Yes) and Attrition(=No)\n",
      "stats = 912579.0 and p = 3.3433144809752036e-36\n",
      "3.3433144809752036e-36 < 0.05--> Reject Null Hypothesis and accept Alternative Hypothesis\n",
      "there is significant difference in YearsAtCompany of Attrition(=Yes) and Attrition(=No)\n",
      "\n",
      "\n",
      "Null Hypothesis: there is no significant difference in YearsWithCurrManager of Attrition(=Yes) and Attrition(=No)\n",
      "Alternate Hypothesis: there is significant difference in YearsWithCurrManager of Attrition(=Yes) and Attrition(=No)\n",
      "stats = 945958.5 and p = 5.420302388722274e-31\n",
      "5.420302388722274e-31 < 0.05--> Reject Null Hypothesis and accept Alternative Hypothesis\n",
      "there is significant difference in YearsWithCurrManager of Attrition(=Yes) and Attrition(=No)\n",
      "\n",
      "\n",
      "Null Hypothesis: there is no significant difference in StockOptionLevel of Attrition(=Yes) and Attrition(=No)\n",
      "Alternate Hypothesis: there is significant difference in StockOptionLevel of Attrition(=Yes) and Attrition(=No)\n",
      "stats = 1276201.5 and p = 0.24144793587056157\n",
      "0.24144793587056157 > 0.05--> Accept Null Hypothesis and reject Alternative Hypothesis\n",
      "there is no significant difference in StockOptionLevel of Attrition(=Yes) and Attrition(=No)\n",
      "\n",
      "\n",
      "Null Hypothesis: there is no significant difference in TrainingTimesLastYear of Attrition(=Yes) and Attrition(=No)\n",
      "Alternate Hypothesis: there is significant difference in TrainingTimesLastYear of Attrition(=Yes) and Attrition(=No)\n",
      "stats = 1225582.0 and p = 0.008107344081224082\n",
      "0.008107344081224082 < 0.05--> Reject Null Hypothesis and accept Alternative Hypothesis\n",
      "there is significant difference in TrainingTimesLastYear of Attrition(=Yes) and Attrition(=No)\n",
      "\n",
      "\n",
      "Null Hypothesis: there is no significant difference in BusinessTravel of Attrition(=Yes) and Attrition(=No)\n",
      "Alternate Hypothesis: there is significant difference in BusinessTravel of Attrition(=Yes) and Attrition(=No)\n",
      "stats = 1249881.0 and p = 0.029614877291203285\n",
      "0.029614877291203285 < 0.05--> Reject Null Hypothesis and accept Alternative Hypothesis\n",
      "there is significant difference in BusinessTravel of Attrition(=Yes) and Attrition(=No)\n",
      "\n",
      "\n",
      "Null Hypothesis: there is no significant difference in Department of Attrition(=Yes) and Attrition(=No)\n",
      "Alternate Hypothesis: there is significant difference in Department of Attrition(=Yes) and Attrition(=No)\n",
      "stats = 1230902.5 and p = 0.0054197115582371854\n",
      "0.0054197115582371854 < 0.05--> Reject Null Hypothesis and accept Alternative Hypothesis\n",
      "there is significant difference in Department of Attrition(=Yes) and Attrition(=No)\n",
      "\n",
      "\n",
      "Null Hypothesis: there is no significant difference in Gender of Attrition(=Yes) and Attrition(=No)\n",
      "Alternate Hypothesis: there is significant difference in Gender of Attrition(=Yes) and Attrition(=No)\n",
      "stats = 1264340.5 and p = 0.11168342489992195\n",
      "0.11168342489992195 > 0.05--> Accept Null Hypothesis and reject Alternative Hypothesis\n",
      "there is no significant difference in Gender of Attrition(=Yes) and Attrition(=No)\n",
      "\n",
      "\n",
      "Null Hypothesis: there is no significant difference in JobRole of Attrition(=Yes) and Attrition(=No)\n",
      "Alternate Hypothesis: there is significant difference in JobRole of Attrition(=Yes) and Attrition(=No)\n",
      "stats = 1250616.5 and p = 0.06684632220821743\n",
      "0.06684632220821743 > 0.05--> Accept Null Hypothesis and reject Alternative Hypothesis\n",
      "there is no significant difference in JobRole of Attrition(=Yes) and Attrition(=No)\n",
      "\n",
      "\n",
      "Null Hypothesis: there is no significant difference in EducationField of Attrition(=Yes) and Attrition(=No)\n",
      "Alternate Hypothesis: there is significant difference in EducationField of Attrition(=Yes) and Attrition(=No)\n",
      "stats = 1190200.0 and p = 0.0001380350032352316\n",
      "0.0001380350032352316 < 0.05--> Reject Null Hypothesis and accept Alternative Hypothesis\n",
      "there is significant difference in EducationField of Attrition(=Yes) and Attrition(=No)\n",
      "\n",
      "\n",
      "Null Hypothesis: there is no significant difference in MaritalStatus of Attrition(=Yes) and Attrition(=No)\n",
      "Alternate Hypothesis: there is significant difference in MaritalStatus of Attrition(=Yes) and Attrition(=No)\n",
      "stats = 988017.0 and p = 1.7735860515961855e-27\n",
      "1.7735860515961855e-27 < 0.05--> Reject Null Hypothesis and accept Alternative Hypothesis\n",
      "there is significant difference in MaritalStatus of Attrition(=Yes) and Attrition(=No)\n",
      "\n",
      "\n"
     ]
    }
   ],
   "source": [
    "a_e_y=[]\n",
    "for i in av:\n",
    "    \n",
    "    print(f\"Null Hypothesis: there is no significant difference in {i} of Attrition(=Yes) and Attrition(=No)\" )\n",
    "    print(f\"Alternate Hypothesis: there is significant difference in {i} of Attrition(=Yes) and Attrition(=No)\" ,end=\"\\n\")\n",
    "    \n",
    "    stats,p=mannwhitneyu(df_yes[i],df_no[i])\n",
    "    print(\"stats = {0} and p = {1}\".format(stats,p))\n",
    "              \n",
    "    if(p<0.05):\n",
    "        print(f\"{p} < 0.05--> Reject Null Hypothesis and accept Alternative Hypothesis\")\n",
    "        print(f\"there is significant difference in {i} of Attrition(=Yes) and Attrition(=No)\" ,end=\"\\n\\n\\n\")\n",
    "        a_e_y.append(i)\n",
    "    else:\n",
    "        print(f\"{p} > 0.05--> Accept Null Hypothesis and reject Alternative Hypothesis\")\n",
    "        print(f\"there is no significant difference in {i} of Attrition(=Yes) and Attrition(=No)\" ,end= \"\\n\\n\\n\")\n"
   ]
  },
  {
   "cell_type": "code",
   "execution_count": 33,
   "metadata": {},
   "outputs": [
    {
     "data": {
      "text/plain": [
       "['Age',\n",
       " 'NumCompaniesWorked',\n",
       " 'PercentSalaryHike',\n",
       " 'YearsSinceLastPromotion',\n",
       " 'YearsAtCompany',\n",
       " 'YearsWithCurrManager',\n",
       " 'TrainingTimesLastYear',\n",
       " 'BusinessTravel',\n",
       " 'Department',\n",
       " 'EducationField',\n",
       " 'MaritalStatus']"
      ]
     },
     "execution_count": 33,
     "metadata": {},
     "output_type": "execute_result"
    }
   ],
   "source": [
    "a_e_y ## variables having an effect on Attrition(p>0.05)"
   ]
  },
  {
   "cell_type": "markdown",
   "metadata": {},
   "source": [
    "### 2.Chi-square Test\n"
   ]
  },
  {
   "cell_type": "code",
   "execution_count": 34,
   "metadata": {},
   "outputs": [
    {
     "name": "stdout",
     "output_type": "stream",
     "text": [
      "['BusinessTravel', 'Department', 'Gender', 'JobRole', 'EducationField', 'MaritalStatus'] "
     ]
    }
   ],
   "source": [
    "print(cv,end=\" \") # categorical variables"
   ]
  },
  {
   "cell_type": "code",
   "execution_count": 35,
   "metadata": {},
   "outputs": [],
   "source": [
    "from scipy.stats import chi2_contingency"
   ]
  },
  {
   "cell_type": "code",
   "execution_count": 36,
   "metadata": {},
   "outputs": [
    {
     "name": "stdout",
     "output_type": "stream",
     "text": [
      "Null Hypothesis: there is no dependency between Attrition BusinessTravel\n",
      "Alternate Hypothesis: there is dependency between Attrition and BusinessTravel\n",
      "chitable:  BusinessTravel  Non-Travel  Travel_Frequently  Travel_Rarely\n",
      "Attrition                                                   \n",
      "No                     412                621           2644\n",
      "Yes                     36                204            465\n",
      "stats = 70.07594084831366,p = 6.07019702736392e-16\n",
      "\n",
      "6.07019702736392e-16 < 0.05--> Reject Null Hypothesis and accept Alternative Hypothesis\n",
      "There is dependency between Attrition and BusinessTravel\n",
      "\n",
      "\n",
      "Null Hypothesis: there is no dependency between Attrition Department\n",
      "Alternate Hypothesis: there is dependency between Attrition and Department\n",
      "chitable:  Department  Human Resources  Research & Development  Sales\n",
      "Attrition                                                 \n",
      "No                      132                    2416   1129\n",
      "Yes                      55                     449    201\n",
      "stats = 25.89432541916022,p = 2.382970570769315e-06\n",
      "\n",
      "2.382970570769315e-06 < 0.05--> Reject Null Hypothesis and accept Alternative Hypothesis\n",
      "There is dependency between Attrition and Department\n",
      "\n",
      "\n",
      "Null Hypothesis: there is no dependency between Attrition Gender\n",
      "Alternate Hypothesis: there is dependency between Attrition and Gender\n",
      "chitable:  Gender     Female  Male\n",
      "Attrition              \n",
      "No           1488  2189\n",
      "Yes           268   437\n",
      "stats = 1.3825823839528295,p = 0.23966176275638887\n",
      "\n",
      "0.23966176275638887 > 0.05--> Accept Null Hypothesis and reject Alternative Hypothesis\n",
      "There is no dependency between Attrition and Gender\n",
      "\n",
      "\n",
      "Null Hypothesis: there is no dependency between Attrition JobRole\n",
      "Alternate Hypothesis: there is dependency between Attrition and JobRole\n",
      "chitable:  JobRole    Healthcare Representative  Human Resources  Laboratory Technician  \\\n",
      "Attrition                                                                      \n",
      "No                               333              135                    648   \n",
      "Yes                               56               21                    125   \n",
      "\n",
      "JobRole    Manager  Manufacturing Director  Research Director  \\\n",
      "Attrition                                                       \n",
      "No             263                     381                183   \n",
      "Yes             42                      48                 54   \n",
      "\n",
      "JobRole    Research Scientist  Sales Executive  Sales Representative  \n",
      "Attrition                                                             \n",
      "No                        714              810                   210  \n",
      "Yes                       158              165                    36  \n",
      "stats = 21.893724958847,p = 0.005116592717526599\n",
      "\n",
      "0.005116592717526599 < 0.05--> Reject Null Hypothesis and accept Alternative Hypothesis\n",
      "There is dependency between Attrition and JobRole\n",
      "\n",
      "\n",
      "Null Hypothesis: there is no dependency between Attrition EducationField\n",
      "Alternate Hypothesis: there is dependency between Attrition and EducationField\n",
      "chitable:  EducationField  Human Resources  Life Sciences  Marketing  Medical  Other  \\\n",
      "Attrition                                                                   \n",
      "No                           48           1505        400     1163    214   \n",
      "Yes                          32            301         75      222     30   \n",
      "\n",
      "EducationField  Technical Degree  \n",
      "Attrition                         \n",
      "No                           347  \n",
      "Yes                           45  \n",
      "stats = 43.132860148900384,p = 3.472896220587872e-08\n",
      "\n",
      "3.472896220587872e-08 < 0.05--> Reject Null Hypothesis and accept Alternative Hypothesis\n",
      "There is dependency between Attrition and EducationField\n",
      "\n",
      "\n",
      "Null Hypothesis: there is no dependency between Attrition MaritalStatus\n",
      "Alternate Hypothesis: there is dependency between Attrition and MaritalStatus\n",
      "chitable:  MaritalStatus  Divorced  Married  Single\n",
      "Attrition                               \n",
      "No                  872     1756    1049\n",
      "Yes                  98      251     356\n",
      "stats = 133.85785802925156,p = 8.573051828219379e-30\n",
      "\n",
      "8.573051828219379e-30 < 0.05--> Reject Null Hypothesis and accept Alternative Hypothesis\n",
      "There is dependency between Attrition and MaritalStatus\n",
      "\n",
      "\n"
     ]
    }
   ],
   "source": [
    "c_e_y=[]\n",
    "df[\"Attrition\"]=df[\"Attrition\"].replace({0:\"No\",1:\"Yes\"})\n",
    "for i in cv:\n",
    "\n",
    "    print(f\"Null Hypothesis: there is no dependency between Attrition {i}\")\n",
    "    print(f\"Alternate Hypothesis: there is dependency between Attrition and {i}\",end=\"\\n\")\n",
    "    chitable=pd.crosstab(df.Attrition,df[i])\n",
    "    print(\"chitable: \",chitable)\n",
    "    stats,p,dof,expected=chi2_contingency(chitable)\n",
    "    print(f\"stats = { stats },p = { p }\",end=\"\\n\\n\")\n",
    "\n",
    "    if(p<0.05):\n",
    "        print(f\"{p} < 0.05--> Reject Null Hypothesis and accept Alternative Hypothesis\")\n",
    "        print(f\"There is dependency between Attrition and {i}\" ,end=\"\\n\\n\\n\")\n",
    "        c_e_y.append(i)\n",
    "    else:\n",
    "        print(f\"{p} > 0.05--> Accept Null Hypothesis and reject Alternative Hypothesis\")\n",
    "        print(f\"There is no dependency between Attrition and {i}\" ,end= \"\\n\\n\\n\")"
   ]
  },
  {
   "cell_type": "code",
   "execution_count": 37,
   "metadata": {},
   "outputs": [
    {
     "data": {
      "text/plain": [
       "['BusinessTravel', 'Department', 'JobRole', 'EducationField', 'MaritalStatus']"
      ]
     },
     "execution_count": 37,
     "metadata": {},
     "output_type": "execute_result"
    }
   ],
   "source": [
    "c_e_y ## variables having effect on Attrition(p>0.05)"
   ]
  },
  {
   "cell_type": "markdown",
   "metadata": {},
   "source": [
    "### Two Sample independent T-Test"
   ]
  },
  {
   "cell_type": "code",
   "execution_count": 38,
   "metadata": {},
   "outputs": [
    {
     "name": "stdout",
     "output_type": "stream",
     "text": [
      "Null Hypothesis: There is no significant difference in the mean of Age or Attrition(=Yes) group and Attrition(=No) group\n",
      "Alternate Hypothesis: There is significant difference in the mean of Age or Attrition(=Yes) group and Attrition(=No) group\n",
      "stats = -10.617111568458819,p = 5.126598219406314e-26\n",
      "\n",
      "5.126598219406314e-26 < 0.05--> Reject Null Hypothesis and accept Alternative Hypothesis\n",
      "There is significant difference in the mean of Age or Attrition(=Yes) group and Attrition(=No) group\n",
      "\n",
      "\n"
     ]
    }
   ],
   "source": [
    "print(\"Null Hypothesis: There is no significant difference in the mean of Age or Attrition(=Yes) group and Attrition(=No) group\")\n",
    "print(\"Alternate Hypothesis: There is significant difference in the mean of Age or Attrition(=Yes) group and Attrition(=No) group\")\n",
    "\n",
    "from scipy.stats import ttest_ind\n",
    "stats,p=ttest_ind(df_yes[\"Age\"],df_no[\"Age\"])\n",
    "print(f\"stats = { stats },p = { p }\",end=\"\\n\\n\")\n",
    "\n",
    "if(p<0.05):\n",
    "    print(f\"{p} < 0.05--> Reject Null Hypothesis and accept Alternative Hypothesis\")\n",
    "    print(f\"There is significant difference in the mean of Age or Attrition(=Yes) group and Attrition(=No) group\" ,end=\"\\n\\n\\n\")\n",
    "else:\n",
    "    print(f\"{p} > 0.05--> Accept Null Hypothesis and reject Alternative Hypothesis\")\n",
    "    print(f\"There is no significant difference in the mean of Age or Attrition(=Yes) group and Attrition(=No) group\" ,end= \"\\n\\n\\n\")\n",
    "\n"
   ]
  },
  {
   "cell_type": "markdown",
   "metadata": {},
   "source": [
    "### 3.Krushkal Wallis Test"
   ]
  },
  {
   "cell_type": "code",
   "execution_count": 39,
   "metadata": {},
   "outputs": [
    {
     "name": "stdout",
     "output_type": "stream",
     "text": [
      "Null Hypothesis:There is no significant difference in the attrition rate of Human Resources,Research & Development and Sales department\n",
      "Alternate Hypothesis:There is significant difference in the attrition rate of Human Resources,Research & Development and Sales department\n",
      "stats = 703.9999999999997,p = 1.3438239287022674e-153\n",
      "\n",
      "1.3438239287022674e-153 < 0.05--> Reject Null Hypothesis and accept Alternative Hypothesis\n",
      "There is significant difference in the attrition rate of Human Resources,Research & Development and Sales department\n",
      "\n",
      "\n"
     ]
    }
   ],
   "source": [
    "dfsh= df_yes[df_yes.Department==\"Human Resources\"]\n",
    "dfsr= df_yes[df_yes.Department==\"Research & Development\"]\n",
    "dfss= df_yes[df_yes.Department==\"Sales\"]\n",
    "\n",
    "print(\"Null Hypothesis:There is no significant difference in the attrition rate of Human Resources,Research & Development and Sales department\")\n",
    "print(\"Alternate Hypothesis:There is significant difference in the attrition rate of Human Resources,Research & Development and Sales department\")\n",
    "from scipy.stats import kruskal\n",
    "stats,p=kruskal(dfsh[\"Department\"],dfsr[\"Department\"],dfss[\"Department\"])\n",
    "print(f\"stats = { stats },p = { p }\",end=\"\\n\\n\")\n",
    "\n",
    "if(p<0.05):\n",
    "    print(f\"{p} < 0.05--> Reject Null Hypothesis and accept Alternative Hypothesis\")\n",
    "    print(\"There is significant difference in the attrition rate of Human Resources,Research & Development and Sales department\" ,end=\"\\n\\n\\n\")\n",
    "else:\n",
    "    print(f\"{p} > 0.05--> Accept Null Hypothesis and reject Alternative Hypothesis\")\n",
    "    print(\"There is no significant difference in the attrition rates of Human Resources,Research & Development and Sales department)\" ,end= \"\\n\\n\\n\")"
   ]
  },
  {
   "cell_type": "markdown",
   "metadata": {},
   "source": [
    "### Correlation Analysis"
   ]
  },
  {
   "cell_type": "code",
   "execution_count": 40,
   "metadata": {},
   "outputs": [],
   "source": [
    "from scipy.stats import pearsonr"
   ]
  },
  {
   "cell_type": "code",
   "execution_count": 46,
   "metadata": {},
   "outputs": [
    {
     "ename": "TypeError",
     "evalue": "Cannot compare types 'ndarray(dtype=int64)' and 'str'",
     "output_type": "error",
     "traceback": [
      "\u001b[1;31m---------------------------------------------------------------------------\u001b[0m",
      "\u001b[1;31mTypeError\u001b[0m                                 Traceback (most recent call last)",
      "\u001b[1;32m<ipython-input-46-a8075da43e3d>\u001b[0m in \u001b[0;36m<module>\u001b[1;34m\u001b[0m\n\u001b[1;32m----> 1\u001b[1;33m \u001b[0mdf\u001b[0m\u001b[1;33m[\u001b[0m\u001b[1;34m\"Attrition\"\u001b[0m\u001b[1;33m]\u001b[0m\u001b[1;33m=\u001b[0m\u001b[0mdf\u001b[0m\u001b[1;33m[\u001b[0m\u001b[1;34m\"Attrition\"\u001b[0m\u001b[1;33m]\u001b[0m\u001b[1;33m.\u001b[0m\u001b[0mreplace\u001b[0m\u001b[1;33m(\u001b[0m\u001b[1;33m{\u001b[0m\u001b[1;34m\"No\"\u001b[0m\u001b[1;33m:\u001b[0m\u001b[1;36m0\u001b[0m\u001b[1;33m,\u001b[0m\u001b[1;34m\"Yes\"\u001b[0m\u001b[1;33m:\u001b[0m\u001b[1;36m1\u001b[0m\u001b[1;33m}\u001b[0m\u001b[1;33m)\u001b[0m\u001b[1;33m\u001b[0m\u001b[1;33m\u001b[0m\u001b[0m\n\u001b[0m",
      "\u001b[1;32m~\\anaconda3\\lib\\site-packages\\pandas\\core\\series.py\u001b[0m in \u001b[0;36mreplace\u001b[1;34m(self, to_replace, value, inplace, limit, regex, method)\u001b[0m\n\u001b[0;32m   4176\u001b[0m             \u001b[0mlimit\u001b[0m\u001b[1;33m=\u001b[0m\u001b[0mlimit\u001b[0m\u001b[1;33m,\u001b[0m\u001b[1;33m\u001b[0m\u001b[1;33m\u001b[0m\u001b[0m\n\u001b[0;32m   4177\u001b[0m             \u001b[0mregex\u001b[0m\u001b[1;33m=\u001b[0m\u001b[0mregex\u001b[0m\u001b[1;33m,\u001b[0m\u001b[1;33m\u001b[0m\u001b[1;33m\u001b[0m\u001b[0m\n\u001b[1;32m-> 4178\u001b[1;33m             \u001b[0mmethod\u001b[0m\u001b[1;33m=\u001b[0m\u001b[0mmethod\u001b[0m\u001b[1;33m,\u001b[0m\u001b[1;33m\u001b[0m\u001b[1;33m\u001b[0m\u001b[0m\n\u001b[0m\u001b[0;32m   4179\u001b[0m         )\n\u001b[0;32m   4180\u001b[0m \u001b[1;33m\u001b[0m\u001b[0m\n",
      "\u001b[1;32m~\\anaconda3\\lib\\site-packages\\pandas\\core\\generic.py\u001b[0m in \u001b[0;36mreplace\u001b[1;34m(self, to_replace, value, inplace, limit, regex, method)\u001b[0m\n\u001b[0;32m   6644\u001b[0m \u001b[1;33m\u001b[0m\u001b[0m\n\u001b[0;32m   6645\u001b[0m             return self.replace(\n\u001b[1;32m-> 6646\u001b[1;33m                 \u001b[0mto_replace\u001b[0m\u001b[1;33m,\u001b[0m \u001b[0mvalue\u001b[0m\u001b[1;33m,\u001b[0m \u001b[0minplace\u001b[0m\u001b[1;33m=\u001b[0m\u001b[0minplace\u001b[0m\u001b[1;33m,\u001b[0m \u001b[0mlimit\u001b[0m\u001b[1;33m=\u001b[0m\u001b[0mlimit\u001b[0m\u001b[1;33m,\u001b[0m \u001b[0mregex\u001b[0m\u001b[1;33m=\u001b[0m\u001b[0mregex\u001b[0m\u001b[1;33m\u001b[0m\u001b[1;33m\u001b[0m\u001b[0m\n\u001b[0m\u001b[0;32m   6647\u001b[0m             )\n\u001b[0;32m   6648\u001b[0m         \u001b[1;32melse\u001b[0m\u001b[1;33m:\u001b[0m\u001b[1;33m\u001b[0m\u001b[1;33m\u001b[0m\u001b[0m\n",
      "\u001b[1;32m~\\anaconda3\\lib\\site-packages\\pandas\\core\\series.py\u001b[0m in \u001b[0;36mreplace\u001b[1;34m(self, to_replace, value, inplace, limit, regex, method)\u001b[0m\n\u001b[0;32m   4176\u001b[0m             \u001b[0mlimit\u001b[0m\u001b[1;33m=\u001b[0m\u001b[0mlimit\u001b[0m\u001b[1;33m,\u001b[0m\u001b[1;33m\u001b[0m\u001b[1;33m\u001b[0m\u001b[0m\n\u001b[0;32m   4177\u001b[0m             \u001b[0mregex\u001b[0m\u001b[1;33m=\u001b[0m\u001b[0mregex\u001b[0m\u001b[1;33m,\u001b[0m\u001b[1;33m\u001b[0m\u001b[1;33m\u001b[0m\u001b[0m\n\u001b[1;32m-> 4178\u001b[1;33m             \u001b[0mmethod\u001b[0m\u001b[1;33m=\u001b[0m\u001b[0mmethod\u001b[0m\u001b[1;33m,\u001b[0m\u001b[1;33m\u001b[0m\u001b[1;33m\u001b[0m\u001b[0m\n\u001b[0m\u001b[0;32m   4179\u001b[0m         )\n\u001b[0;32m   4180\u001b[0m \u001b[1;33m\u001b[0m\u001b[0m\n",
      "\u001b[1;32m~\\anaconda3\\lib\\site-packages\\pandas\\core\\generic.py\u001b[0m in \u001b[0;36mreplace\u001b[1;34m(self, to_replace, value, inplace, limit, regex, method)\u001b[0m\n\u001b[0;32m   6697\u001b[0m                         \u001b[0mdest_list\u001b[0m\u001b[1;33m=\u001b[0m\u001b[0mvalue\u001b[0m\u001b[1;33m,\u001b[0m\u001b[1;33m\u001b[0m\u001b[1;33m\u001b[0m\u001b[0m\n\u001b[0;32m   6698\u001b[0m                         \u001b[0minplace\u001b[0m\u001b[1;33m=\u001b[0m\u001b[0minplace\u001b[0m\u001b[1;33m,\u001b[0m\u001b[1;33m\u001b[0m\u001b[1;33m\u001b[0m\u001b[0m\n\u001b[1;32m-> 6699\u001b[1;33m                         \u001b[0mregex\u001b[0m\u001b[1;33m=\u001b[0m\u001b[0mregex\u001b[0m\u001b[1;33m,\u001b[0m\u001b[1;33m\u001b[0m\u001b[1;33m\u001b[0m\u001b[0m\n\u001b[0m\u001b[0;32m   6700\u001b[0m                     )\n\u001b[0;32m   6701\u001b[0m \u001b[1;33m\u001b[0m\u001b[0m\n",
      "\u001b[1;32m~\\anaconda3\\lib\\site-packages\\pandas\\core\\internals\\managers.py\u001b[0m in \u001b[0;36mreplace_list\u001b[1;34m(self, src_list, dest_list, inplace, regex)\u001b[0m\n\u001b[0;32m    611\u001b[0m             \u001b[1;32mreturn\u001b[0m \u001b[0m_compare_or_regex_search\u001b[0m\u001b[1;33m(\u001b[0m\u001b[0mvalues\u001b[0m\u001b[1;33m,\u001b[0m \u001b[0ms\u001b[0m\u001b[1;33m,\u001b[0m \u001b[0mregex\u001b[0m\u001b[1;33m)\u001b[0m\u001b[1;33m\u001b[0m\u001b[1;33m\u001b[0m\u001b[0m\n\u001b[0;32m    612\u001b[0m \u001b[1;33m\u001b[0m\u001b[0m\n\u001b[1;32m--> 613\u001b[1;33m         \u001b[0mmasks\u001b[0m \u001b[1;33m=\u001b[0m \u001b[1;33m[\u001b[0m\u001b[0mcomp\u001b[0m\u001b[1;33m(\u001b[0m\u001b[0ms\u001b[0m\u001b[1;33m,\u001b[0m \u001b[0mregex\u001b[0m\u001b[1;33m)\u001b[0m \u001b[1;32mfor\u001b[0m \u001b[0mi\u001b[0m\u001b[1;33m,\u001b[0m \u001b[0ms\u001b[0m \u001b[1;32min\u001b[0m \u001b[0menumerate\u001b[0m\u001b[1;33m(\u001b[0m\u001b[0msrc_list\u001b[0m\u001b[1;33m)\u001b[0m\u001b[1;33m]\u001b[0m\u001b[1;33m\u001b[0m\u001b[1;33m\u001b[0m\u001b[0m\n\u001b[0m\u001b[0;32m    614\u001b[0m \u001b[1;33m\u001b[0m\u001b[0m\n\u001b[0;32m    615\u001b[0m         \u001b[0mresult_blocks\u001b[0m \u001b[1;33m=\u001b[0m \u001b[1;33m[\u001b[0m\u001b[1;33m]\u001b[0m\u001b[1;33m\u001b[0m\u001b[1;33m\u001b[0m\u001b[0m\n",
      "\u001b[1;32m~\\anaconda3\\lib\\site-packages\\pandas\\core\\internals\\managers.py\u001b[0m in \u001b[0;36m<listcomp>\u001b[1;34m(.0)\u001b[0m\n\u001b[0;32m    611\u001b[0m             \u001b[1;32mreturn\u001b[0m \u001b[0m_compare_or_regex_search\u001b[0m\u001b[1;33m(\u001b[0m\u001b[0mvalues\u001b[0m\u001b[1;33m,\u001b[0m \u001b[0ms\u001b[0m\u001b[1;33m,\u001b[0m \u001b[0mregex\u001b[0m\u001b[1;33m)\u001b[0m\u001b[1;33m\u001b[0m\u001b[1;33m\u001b[0m\u001b[0m\n\u001b[0;32m    612\u001b[0m \u001b[1;33m\u001b[0m\u001b[0m\n\u001b[1;32m--> 613\u001b[1;33m         \u001b[0mmasks\u001b[0m \u001b[1;33m=\u001b[0m \u001b[1;33m[\u001b[0m\u001b[0mcomp\u001b[0m\u001b[1;33m(\u001b[0m\u001b[0ms\u001b[0m\u001b[1;33m,\u001b[0m \u001b[0mregex\u001b[0m\u001b[1;33m)\u001b[0m \u001b[1;32mfor\u001b[0m \u001b[0mi\u001b[0m\u001b[1;33m,\u001b[0m \u001b[0ms\u001b[0m \u001b[1;32min\u001b[0m \u001b[0menumerate\u001b[0m\u001b[1;33m(\u001b[0m\u001b[0msrc_list\u001b[0m\u001b[1;33m)\u001b[0m\u001b[1;33m]\u001b[0m\u001b[1;33m\u001b[0m\u001b[1;33m\u001b[0m\u001b[0m\n\u001b[0m\u001b[0;32m    614\u001b[0m \u001b[1;33m\u001b[0m\u001b[0m\n\u001b[0;32m    615\u001b[0m         \u001b[0mresult_blocks\u001b[0m \u001b[1;33m=\u001b[0m \u001b[1;33m[\u001b[0m\u001b[1;33m]\u001b[0m\u001b[1;33m\u001b[0m\u001b[1;33m\u001b[0m\u001b[0m\n",
      "\u001b[1;32m~\\anaconda3\\lib\\site-packages\\pandas\\core\\internals\\managers.py\u001b[0m in \u001b[0;36mcomp\u001b[1;34m(s, regex)\u001b[0m\n\u001b[0;32m    609\u001b[0m                     \u001b[0mmaybe_convert_objects\u001b[0m\u001b[1;33m(\u001b[0m\u001b[0mvalues\u001b[0m\u001b[1;33m)\u001b[0m\u001b[1;33m,\u001b[0m \u001b[0ms\u001b[0m\u001b[1;33m.\u001b[0m\u001b[0masm8\u001b[0m\u001b[1;33m,\u001b[0m \u001b[0mregex\u001b[0m\u001b[1;33m\u001b[0m\u001b[1;33m\u001b[0m\u001b[0m\n\u001b[0;32m    610\u001b[0m                 )\n\u001b[1;32m--> 611\u001b[1;33m             \u001b[1;32mreturn\u001b[0m \u001b[0m_compare_or_regex_search\u001b[0m\u001b[1;33m(\u001b[0m\u001b[0mvalues\u001b[0m\u001b[1;33m,\u001b[0m \u001b[0ms\u001b[0m\u001b[1;33m,\u001b[0m \u001b[0mregex\u001b[0m\u001b[1;33m)\u001b[0m\u001b[1;33m\u001b[0m\u001b[1;33m\u001b[0m\u001b[0m\n\u001b[0m\u001b[0;32m    612\u001b[0m \u001b[1;33m\u001b[0m\u001b[0m\n\u001b[0;32m    613\u001b[0m         \u001b[0mmasks\u001b[0m \u001b[1;33m=\u001b[0m \u001b[1;33m[\u001b[0m\u001b[0mcomp\u001b[0m\u001b[1;33m(\u001b[0m\u001b[0ms\u001b[0m\u001b[1;33m,\u001b[0m \u001b[0mregex\u001b[0m\u001b[1;33m)\u001b[0m \u001b[1;32mfor\u001b[0m \u001b[0mi\u001b[0m\u001b[1;33m,\u001b[0m \u001b[0ms\u001b[0m \u001b[1;32min\u001b[0m \u001b[0menumerate\u001b[0m\u001b[1;33m(\u001b[0m\u001b[0msrc_list\u001b[0m\u001b[1;33m)\u001b[0m\u001b[1;33m]\u001b[0m\u001b[1;33m\u001b[0m\u001b[1;33m\u001b[0m\u001b[0m\n",
      "\u001b[1;32m~\\anaconda3\\lib\\site-packages\\pandas\\core\\internals\\managers.py\u001b[0m in \u001b[0;36m_compare_or_regex_search\u001b[1;34m(a, b, regex)\u001b[0m\n\u001b[0;32m   1934\u001b[0m \u001b[1;33m\u001b[0m\u001b[0m\n\u001b[0;32m   1935\u001b[0m         raise TypeError(\n\u001b[1;32m-> 1936\u001b[1;33m             \u001b[1;34mf\"Cannot compare types {repr(type_names[0])} and {repr(type_names[1])}\"\u001b[0m\u001b[1;33m\u001b[0m\u001b[1;33m\u001b[0m\u001b[0m\n\u001b[0m\u001b[0;32m   1937\u001b[0m         )\n\u001b[0;32m   1938\u001b[0m     \u001b[1;32mreturn\u001b[0m \u001b[0mresult\u001b[0m\u001b[1;33m\u001b[0m\u001b[1;33m\u001b[0m\u001b[0m\n",
      "\u001b[1;31mTypeError\u001b[0m: Cannot compare types 'ndarray(dtype=int64)' and 'str'"
     ]
    }
   ],
   "source": [
    "df[\"Attrition\"]=df[\"Attrition\"].replace({\"No\":0,\"Yes\":1})\n"
   ]
  },
  {
   "cell_type": "code",
   "execution_count": 47,
   "metadata": {},
   "outputs": [
    {
     "name": "stdout",
     "output_type": "stream",
     "text": [
      "Null Hypothesis: Age variable has no effect on Attrition\n",
      "Alternate Hypothesis: Age variable has significant effect on Attrition\n",
      "\n",
      "stats = -0.1583986795409671 and p = 5.1265982193780794e-26\n",
      "stats = -0.1583986795409671---> Age and Attrition are negatively correlated\n",
      "5.1265982193780794e-26 < 0.05--> Reject Null Hypothesis and accept Alternative Hypothesis\n",
      "Age variable has significant effect on Attrition\n",
      "\n",
      "\n",
      "Null Hypothesis: DistanceFromHome variable has no effect on Attrition\n",
      "Alternate Hypothesis: DistanceFromHome variable has significant effect on Attrition\n",
      "\n",
      "stats = -0.009448638515156258 and p = 0.5317715668019558\n",
      "stats = -0.009448638515156258---> DistanceFromHome and Attrition are negatively correlated\n",
      "0.5317715668019558 > 0.05--> Accept Null Hypothesis and reject Alternative Hypothesis\n",
      "DistanceFromHome variable has no effect on Attrition\n",
      "\n",
      "\n",
      "Null Hypothesis: MonthlyIncome variable has no effect on Attrition\n",
      "Alternate Hypothesis: MonthlyIncome variable has significant effect on Attrition\n",
      "\n",
      "stats = -0.030160293808460678 and p = 0.045890862744719166\n",
      "stats = -0.030160293808460678---> MonthlyIncome and Attrition are negatively correlated\n",
      "0.045890862744719166 < 0.05--> Reject Null Hypothesis and accept Alternative Hypothesis\n",
      "MonthlyIncome variable has significant effect on Attrition\n",
      "\n",
      "\n",
      "Null Hypothesis: DistanceFromHome variable has no effect on Attrition\n",
      "Alternate Hypothesis: DistanceFromHome variable has significant effect on Attrition\n",
      "\n",
      "stats = -0.009448638515156258 and p = 0.5317715668019558\n",
      "stats = -0.009448638515156258---> DistanceFromHome and Attrition are negatively correlated\n",
      "0.5317715668019558 > 0.05--> Accept Null Hypothesis and reject Alternative Hypothesis\n",
      "DistanceFromHome variable has no effect on Attrition\n",
      "\n",
      "\n",
      "Null Hypothesis: NumCompaniesWorked variable has no effect on Attrition\n",
      "Alternate Hypothesis: NumCompaniesWorked variable has significant effect on Attrition\n",
      "\n",
      "stats = 0.04283056724472085 and p = 0.004572057121620842\n",
      "stats = 0.04283056724472085--->NumCompaniesWorked and Attrition are positively correlated\n",
      "0.004572057121620842 < 0.05--> Reject Null Hypothesis and accept Alternative Hypothesis\n",
      "NumCompaniesWorked variable has significant effect on Attrition\n",
      "\n",
      "\n",
      "Null Hypothesis: PercentSalaryHike variable has no effect on Attrition\n",
      "Alternate Hypothesis: PercentSalaryHike variable has significant effect on Attrition\n",
      "\n",
      "stats = 0.03315303713546657 and p = 0.028192446935112747\n",
      "stats = 0.03315303713546657--->PercentSalaryHike and Attrition are positively correlated\n",
      "0.028192446935112747 < 0.05--> Reject Null Hypothesis and accept Alternative Hypothesis\n",
      "PercentSalaryHike variable has significant effect on Attrition\n",
      "\n",
      "\n",
      "Null Hypothesis: JobLevel variable has no effect on Attrition\n",
      "Alternate Hypothesis: JobLevel variable has significant effect on Attrition\n",
      "\n",
      "stats = -0.01238156972079089 and p = 0.4125489150380087\n",
      "stats = -0.01238156972079089---> JobLevel and Attrition are negatively correlated\n",
      "0.4125489150380087 > 0.05--> Accept Null Hypothesis and reject Alternative Hypothesis\n",
      "JobLevel variable has no effect on Attrition\n",
      "\n",
      "\n",
      "Null Hypothesis: Education variable has no effect on Attrition\n",
      "Alternate Hypothesis: Education variable has significant effect on Attrition\n",
      "\n",
      "stats = -0.017106307050278706 and p = 0.25757539308157945\n",
      "stats = -0.017106307050278706---> Education and Attrition are negatively correlated\n",
      "0.25757539308157945 > 0.05--> Accept Null Hypothesis and reject Alternative Hypothesis\n",
      "Education variable has no effect on Attrition\n",
      "\n",
      "\n",
      "Null Hypothesis: YearsSinceLastPromotion variable has no effect on Attrition\n",
      "Alternate Hypothesis: YearsSinceLastPromotion variable has significant effect on Attrition\n",
      "\n",
      "stats = -0.03142315056330984 and p = 0.03752293607394267\n",
      "stats = -0.03142315056330984---> YearsSinceLastPromotion and Attrition are negatively correlated\n",
      "0.03752293607394267 < 0.05--> Reject Null Hypothesis and accept Alternative Hypothesis\n",
      "YearsSinceLastPromotion variable has significant effect on Attrition\n",
      "\n",
      "\n",
      "Null Hypothesis: YearsAtCompany variable has no effect on Attrition\n",
      "Alternate Hypothesis: YearsAtCompany variable has significant effect on Attrition\n",
      "\n",
      "stats = -0.13300261842521532 and p = 9.476118084840815e-19\n",
      "stats = -0.13300261842521532---> YearsAtCompany and Attrition are negatively correlated\n",
      "9.476118084840815e-19 < 0.05--> Reject Null Hypothesis and accept Alternative Hypothesis\n",
      "YearsAtCompany variable has significant effect on Attrition\n",
      "\n",
      "\n",
      "Null Hypothesis: YearsWithCurrManager variable has no effect on Attrition\n",
      "Alternate Hypothesis: YearsWithCurrManager variable has significant effect on Attrition\n",
      "\n",
      "stats = -0.15469153690287285 and p = 7.105369646772844e-25\n",
      "stats = -0.15469153690287285---> YearsWithCurrManager and Attrition are negatively correlated\n",
      "7.105369646772844e-25 < 0.05--> Reject Null Hypothesis and accept Alternative Hypothesis\n",
      "YearsWithCurrManager variable has significant effect on Attrition\n",
      "\n",
      "\n",
      "Null Hypothesis: StockOptionLevel variable has no effect on Attrition\n",
      "Alternate Hypothesis: StockOptionLevel variable has significant effect on Attrition\n",
      "\n",
      "stats = -0.008164026684984355 and p = 0.588999635830954\n",
      "stats = -0.008164026684984355---> StockOptionLevel and Attrition are negatively correlated\n",
      "0.588999635830954 > 0.05--> Accept Null Hypothesis and reject Alternative Hypothesis\n",
      "StockOptionLevel variable has no effect on Attrition\n",
      "\n",
      "\n",
      "Null Hypothesis: TrainingTimesLastYear variable has no effect on Attrition\n",
      "Alternate Hypothesis: TrainingTimesLastYear variable has significant effect on Attrition\n",
      "\n",
      "stats = -0.047585736930817205 and p = 0.0016276603635474061\n",
      "stats = -0.047585736930817205---> TrainingTimesLastYear and Attrition are negatively correlated\n",
      "0.0016276603635474061 < 0.05--> Reject Null Hypothesis and accept Alternative Hypothesis\n",
      "TrainingTimesLastYear variable has significant effect on Attrition\n",
      "\n",
      "\n"
     ]
    }
   ],
   "source": [
    "for i in nv:\n",
    "    \n",
    "    print(f\"Null Hypothesis: {i} variable has no effect on Attrition\" )\n",
    "    print(f\"Alternate Hypothesis: {i} variable has significant effect on Attrition\" ,end=\"\\n\\n\")\n",
    "    \n",
    "    stats,p=pearsonr(df.Attrition,df[i])\n",
    "    print(\"stats = {0} and p = {1}\".format(stats,p))\n",
    "    if (-0.5<stats<0 ):\n",
    "        print(f\"stats = {stats}---> {i} and Attrition are negatively correlated\")\n",
    "    elif (-1<stats<-0.5):\n",
    "        print(f\"stats = {stats}--->{i} and Attrition are strongly negatively correlated\")\n",
    "    elif (0<stats<0.5):\n",
    "        print(f\"stats = {stats}--->{i} and Attrition are positively correlated\")\n",
    "    elif (0.5<stats<1):\n",
    "        print(f\"stats = {stats}--->{i} and Attrition are strongly positively correlated\")\n",
    "    else:\n",
    "        print(\"error\")\n",
    "              \n",
    "    if(p<0.05):\n",
    "        print(f\"{p} < 0.05--> Reject Null Hypothesis and accept Alternative Hypothesis\")\n",
    "        print(f\"{i} variable has significant effect on Attrition\" ,end=\"\\n\\n\\n\")\n",
    "    else:\n",
    "        print(f\"{p} > 0.05--> Accept Null Hypothesis and reject Alternative Hypothesis\")\n",
    "        print(f\"{i} variable has no effect on Attrition\" ,end= \"\\n\\n\\n\")\n",
    "            \n",
    "              "
   ]
  },
  {
   "cell_type": "code",
   "execution_count": 48,
   "metadata": {},
   "outputs": [
    {
     "data": {
      "text/plain": [
       "['Age',\n",
       " 'MonthlyIncome',\n",
       " 'NumCompaniesWorked',\n",
       " 'PercentSalaryHike',\n",
       " 'YearsSinceLastPromotion',\n",
       " 'YearsAtCompany',\n",
       " 'YearsWithCurrManager',\n",
       " 'TrainingTimesLastYear']"
      ]
     },
     "execution_count": 48,
     "metadata": {},
     "output_type": "execute_result"
    }
   ],
   "source": [
    "s"
   ]
  },
  {
   "cell_type": "code",
   "execution_count": 49,
   "metadata": {},
   "outputs": [
    {
     "data": {
      "text/html": [
       "<div>\n",
       "<style scoped>\n",
       "    .dataframe tbody tr th:only-of-type {\n",
       "        vertical-align: middle;\n",
       "    }\n",
       "\n",
       "    .dataframe tbody tr th {\n",
       "        vertical-align: top;\n",
       "    }\n",
       "\n",
       "    .dataframe thead th {\n",
       "        text-align: right;\n",
       "    }\n",
       "</style>\n",
       "<table border=\"1\" class=\"dataframe\">\n",
       "  <thead>\n",
       "    <tr style=\"text-align: right;\">\n",
       "      <th></th>\n",
       "      <th>Age</th>\n",
       "      <th>Attrition</th>\n",
       "      <th>DistanceFromHome</th>\n",
       "      <th>Education</th>\n",
       "      <th>JobLevel</th>\n",
       "      <th>MonthlyIncome</th>\n",
       "      <th>NumCompaniesWorked</th>\n",
       "      <th>PercentSalaryHike</th>\n",
       "      <th>StockOptionLevel</th>\n",
       "      <th>TotalWorkingYears</th>\n",
       "      <th>TrainingTimesLastYear</th>\n",
       "      <th>YearsAtCompany</th>\n",
       "      <th>YearsSinceLastPromotion</th>\n",
       "      <th>YearsWithCurrManager</th>\n",
       "    </tr>\n",
       "  </thead>\n",
       "  <tbody>\n",
       "    <tr>\n",
       "      <th>Age</th>\n",
       "      <td>1.000000</td>\n",
       "      <td>-0.158399</td>\n",
       "      <td>0.007376</td>\n",
       "      <td>-0.033900</td>\n",
       "      <td>-0.001137</td>\n",
       "      <td>-0.045163</td>\n",
       "      <td>0.299527</td>\n",
       "      <td>-0.032561</td>\n",
       "      <td>-0.031504</td>\n",
       "      <td>0.680037</td>\n",
       "      <td>-0.028962</td>\n",
       "      <td>0.311281</td>\n",
       "      <td>0.215650</td>\n",
       "      <td>0.201580</td>\n",
       "    </tr>\n",
       "    <tr>\n",
       "      <th>Attrition</th>\n",
       "      <td>-0.158399</td>\n",
       "      <td>1.000000</td>\n",
       "      <td>-0.009449</td>\n",
       "      <td>-0.017106</td>\n",
       "      <td>-0.012382</td>\n",
       "      <td>-0.030160</td>\n",
       "      <td>0.042831</td>\n",
       "      <td>0.033153</td>\n",
       "      <td>-0.008164</td>\n",
       "      <td>-0.169670</td>\n",
       "      <td>-0.047586</td>\n",
       "      <td>-0.133003</td>\n",
       "      <td>-0.031423</td>\n",
       "      <td>-0.154692</td>\n",
       "    </tr>\n",
       "    <tr>\n",
       "      <th>DistanceFromHome</th>\n",
       "      <td>0.007376</td>\n",
       "      <td>-0.009449</td>\n",
       "      <td>1.000000</td>\n",
       "      <td>-0.007491</td>\n",
       "      <td>-0.039990</td>\n",
       "      <td>-0.022757</td>\n",
       "      <td>-0.014449</td>\n",
       "      <td>0.037720</td>\n",
       "      <td>0.009353</td>\n",
       "      <td>0.009574</td>\n",
       "      <td>-0.008957</td>\n",
       "      <td>0.030746</td>\n",
       "      <td>0.002243</td>\n",
       "      <td>0.021773</td>\n",
       "    </tr>\n",
       "    <tr>\n",
       "      <th>Education</th>\n",
       "      <td>-0.033900</td>\n",
       "      <td>-0.017106</td>\n",
       "      <td>-0.007491</td>\n",
       "      <td>1.000000</td>\n",
       "      <td>0.045822</td>\n",
       "      <td>0.007289</td>\n",
       "      <td>-0.016210</td>\n",
       "      <td>-0.041054</td>\n",
       "      <td>0.002386</td>\n",
       "      <td>-0.009228</td>\n",
       "      <td>0.009939</td>\n",
       "      <td>0.005997</td>\n",
       "      <td>0.023457</td>\n",
       "      <td>0.005645</td>\n",
       "    </tr>\n",
       "    <tr>\n",
       "      <th>JobLevel</th>\n",
       "      <td>-0.001137</td>\n",
       "      <td>-0.012382</td>\n",
       "      <td>-0.039990</td>\n",
       "      <td>0.045822</td>\n",
       "      <td>1.000000</td>\n",
       "      <td>0.046688</td>\n",
       "      <td>-0.009759</td>\n",
       "      <td>0.010874</td>\n",
       "      <td>0.000365</td>\n",
       "      <td>-0.036293</td>\n",
       "      <td>-0.031931</td>\n",
       "      <td>-0.063360</td>\n",
       "      <td>-0.059680</td>\n",
       "      <td>-0.053898</td>\n",
       "    </tr>\n",
       "    <tr>\n",
       "      <th>MonthlyIncome</th>\n",
       "      <td>-0.045163</td>\n",
       "      <td>-0.030160</td>\n",
       "      <td>-0.022757</td>\n",
       "      <td>0.007289</td>\n",
       "      <td>0.046688</td>\n",
       "      <td>1.000000</td>\n",
       "      <td>-0.021446</td>\n",
       "      <td>0.004607</td>\n",
       "      <td>0.027242</td>\n",
       "      <td>-0.034398</td>\n",
       "      <td>0.049780</td>\n",
       "      <td>0.000088</td>\n",
       "      <td>0.064470</td>\n",
       "      <td>0.023095</td>\n",
       "    </tr>\n",
       "    <tr>\n",
       "      <th>NumCompaniesWorked</th>\n",
       "      <td>0.299527</td>\n",
       "      <td>0.042831</td>\n",
       "      <td>-0.014449</td>\n",
       "      <td>-0.016210</td>\n",
       "      <td>-0.009759</td>\n",
       "      <td>-0.021446</td>\n",
       "      <td>1.000000</td>\n",
       "      <td>0.030064</td>\n",
       "      <td>0.016291</td>\n",
       "      <td>0.238807</td>\n",
       "      <td>-0.031335</td>\n",
       "      <td>-0.117213</td>\n",
       "      <td>-0.035855</td>\n",
       "      <td>-0.109372</td>\n",
       "    </tr>\n",
       "    <tr>\n",
       "      <th>PercentSalaryHike</th>\n",
       "      <td>-0.032561</td>\n",
       "      <td>0.033153</td>\n",
       "      <td>0.037720</td>\n",
       "      <td>-0.041054</td>\n",
       "      <td>0.010874</td>\n",
       "      <td>0.004607</td>\n",
       "      <td>0.030064</td>\n",
       "      <td>1.000000</td>\n",
       "      <td>0.012104</td>\n",
       "      <td>-0.018480</td>\n",
       "      <td>-0.036720</td>\n",
       "      <td>-0.029022</td>\n",
       "      <td>-0.028654</td>\n",
       "      <td>-0.039687</td>\n",
       "    </tr>\n",
       "    <tr>\n",
       "      <th>StockOptionLevel</th>\n",
       "      <td>-0.031504</td>\n",
       "      <td>-0.008164</td>\n",
       "      <td>0.009353</td>\n",
       "      <td>0.002386</td>\n",
       "      <td>0.000365</td>\n",
       "      <td>0.027242</td>\n",
       "      <td>0.016291</td>\n",
       "      <td>0.012104</td>\n",
       "      <td>1.000000</td>\n",
       "      <td>0.003138</td>\n",
       "      <td>-0.068028</td>\n",
       "      <td>0.009369</td>\n",
       "      <td>0.019889</td>\n",
       "      <td>0.019398</td>\n",
       "    </tr>\n",
       "    <tr>\n",
       "      <th>TotalWorkingYears</th>\n",
       "      <td>0.680037</td>\n",
       "      <td>-0.169670</td>\n",
       "      <td>0.009574</td>\n",
       "      <td>-0.009228</td>\n",
       "      <td>-0.036293</td>\n",
       "      <td>-0.034398</td>\n",
       "      <td>0.238807</td>\n",
       "      <td>-0.018480</td>\n",
       "      <td>0.003138</td>\n",
       "      <td>1.000000</td>\n",
       "      <td>-0.041459</td>\n",
       "      <td>0.627738</td>\n",
       "      <td>0.404058</td>\n",
       "      <td>0.458640</td>\n",
       "    </tr>\n",
       "    <tr>\n",
       "      <th>TrainingTimesLastYear</th>\n",
       "      <td>-0.028962</td>\n",
       "      <td>-0.047586</td>\n",
       "      <td>-0.008957</td>\n",
       "      <td>0.009939</td>\n",
       "      <td>-0.031931</td>\n",
       "      <td>0.049780</td>\n",
       "      <td>-0.031335</td>\n",
       "      <td>-0.036720</td>\n",
       "      <td>-0.068028</td>\n",
       "      <td>-0.041459</td>\n",
       "      <td>1.000000</td>\n",
       "      <td>-0.010447</td>\n",
       "      <td>0.015340</td>\n",
       "      <td>-0.015792</td>\n",
       "    </tr>\n",
       "    <tr>\n",
       "      <th>YearsAtCompany</th>\n",
       "      <td>0.311281</td>\n",
       "      <td>-0.133003</td>\n",
       "      <td>0.030746</td>\n",
       "      <td>0.005997</td>\n",
       "      <td>-0.063360</td>\n",
       "      <td>0.000088</td>\n",
       "      <td>-0.117213</td>\n",
       "      <td>-0.029022</td>\n",
       "      <td>0.009369</td>\n",
       "      <td>0.627738</td>\n",
       "      <td>-0.010447</td>\n",
       "      <td>1.000000</td>\n",
       "      <td>0.618722</td>\n",
       "      <td>0.769161</td>\n",
       "    </tr>\n",
       "    <tr>\n",
       "      <th>YearsSinceLastPromotion</th>\n",
       "      <td>0.215650</td>\n",
       "      <td>-0.031423</td>\n",
       "      <td>0.002243</td>\n",
       "      <td>0.023457</td>\n",
       "      <td>-0.059680</td>\n",
       "      <td>0.064470</td>\n",
       "      <td>-0.035855</td>\n",
       "      <td>-0.028654</td>\n",
       "      <td>0.019889</td>\n",
       "      <td>0.404058</td>\n",
       "      <td>0.015340</td>\n",
       "      <td>0.618722</td>\n",
       "      <td>1.000000</td>\n",
       "      <td>0.510341</td>\n",
       "    </tr>\n",
       "    <tr>\n",
       "      <th>YearsWithCurrManager</th>\n",
       "      <td>0.201580</td>\n",
       "      <td>-0.154692</td>\n",
       "      <td>0.021773</td>\n",
       "      <td>0.005645</td>\n",
       "      <td>-0.053898</td>\n",
       "      <td>0.023095</td>\n",
       "      <td>-0.109372</td>\n",
       "      <td>-0.039687</td>\n",
       "      <td>0.019398</td>\n",
       "      <td>0.458640</td>\n",
       "      <td>-0.015792</td>\n",
       "      <td>0.769161</td>\n",
       "      <td>0.510341</td>\n",
       "      <td>1.000000</td>\n",
       "    </tr>\n",
       "  </tbody>\n",
       "</table>\n",
       "</div>"
      ],
      "text/plain": [
       "                              Age  Attrition  DistanceFromHome  Education  \\\n",
       "Age                      1.000000  -0.158399          0.007376  -0.033900   \n",
       "Attrition               -0.158399   1.000000         -0.009449  -0.017106   \n",
       "DistanceFromHome         0.007376  -0.009449          1.000000  -0.007491   \n",
       "Education               -0.033900  -0.017106         -0.007491   1.000000   \n",
       "JobLevel                -0.001137  -0.012382         -0.039990   0.045822   \n",
       "MonthlyIncome           -0.045163  -0.030160         -0.022757   0.007289   \n",
       "NumCompaniesWorked       0.299527   0.042831         -0.014449  -0.016210   \n",
       "PercentSalaryHike       -0.032561   0.033153          0.037720  -0.041054   \n",
       "StockOptionLevel        -0.031504  -0.008164          0.009353   0.002386   \n",
       "TotalWorkingYears        0.680037  -0.169670          0.009574  -0.009228   \n",
       "TrainingTimesLastYear   -0.028962  -0.047586         -0.008957   0.009939   \n",
       "YearsAtCompany           0.311281  -0.133003          0.030746   0.005997   \n",
       "YearsSinceLastPromotion  0.215650  -0.031423          0.002243   0.023457   \n",
       "YearsWithCurrManager     0.201580  -0.154692          0.021773   0.005645   \n",
       "\n",
       "                         JobLevel  MonthlyIncome  NumCompaniesWorked  \\\n",
       "Age                     -0.001137      -0.045163            0.299527   \n",
       "Attrition               -0.012382      -0.030160            0.042831   \n",
       "DistanceFromHome        -0.039990      -0.022757           -0.014449   \n",
       "Education                0.045822       0.007289           -0.016210   \n",
       "JobLevel                 1.000000       0.046688           -0.009759   \n",
       "MonthlyIncome            0.046688       1.000000           -0.021446   \n",
       "NumCompaniesWorked      -0.009759      -0.021446            1.000000   \n",
       "PercentSalaryHike        0.010874       0.004607            0.030064   \n",
       "StockOptionLevel         0.000365       0.027242            0.016291   \n",
       "TotalWorkingYears       -0.036293      -0.034398            0.238807   \n",
       "TrainingTimesLastYear   -0.031931       0.049780           -0.031335   \n",
       "YearsAtCompany          -0.063360       0.000088           -0.117213   \n",
       "YearsSinceLastPromotion -0.059680       0.064470           -0.035855   \n",
       "YearsWithCurrManager    -0.053898       0.023095           -0.109372   \n",
       "\n",
       "                         PercentSalaryHike  StockOptionLevel  \\\n",
       "Age                              -0.032561         -0.031504   \n",
       "Attrition                         0.033153         -0.008164   \n",
       "DistanceFromHome                  0.037720          0.009353   \n",
       "Education                        -0.041054          0.002386   \n",
       "JobLevel                          0.010874          0.000365   \n",
       "MonthlyIncome                     0.004607          0.027242   \n",
       "NumCompaniesWorked                0.030064          0.016291   \n",
       "PercentSalaryHike                 1.000000          0.012104   \n",
       "StockOptionLevel                  0.012104          1.000000   \n",
       "TotalWorkingYears                -0.018480          0.003138   \n",
       "TrainingTimesLastYear            -0.036720         -0.068028   \n",
       "YearsAtCompany                   -0.029022          0.009369   \n",
       "YearsSinceLastPromotion          -0.028654          0.019889   \n",
       "YearsWithCurrManager             -0.039687          0.019398   \n",
       "\n",
       "                         TotalWorkingYears  TrainingTimesLastYear  \\\n",
       "Age                               0.680037              -0.028962   \n",
       "Attrition                        -0.169670              -0.047586   \n",
       "DistanceFromHome                  0.009574              -0.008957   \n",
       "Education                        -0.009228               0.009939   \n",
       "JobLevel                         -0.036293              -0.031931   \n",
       "MonthlyIncome                    -0.034398               0.049780   \n",
       "NumCompaniesWorked                0.238807              -0.031335   \n",
       "PercentSalaryHike                -0.018480              -0.036720   \n",
       "StockOptionLevel                  0.003138              -0.068028   \n",
       "TotalWorkingYears                 1.000000              -0.041459   \n",
       "TrainingTimesLastYear            -0.041459               1.000000   \n",
       "YearsAtCompany                    0.627738              -0.010447   \n",
       "YearsSinceLastPromotion           0.404058               0.015340   \n",
       "YearsWithCurrManager              0.458640              -0.015792   \n",
       "\n",
       "                         YearsAtCompany  YearsSinceLastPromotion  \\\n",
       "Age                            0.311281                 0.215650   \n",
       "Attrition                     -0.133003                -0.031423   \n",
       "DistanceFromHome               0.030746                 0.002243   \n",
       "Education                      0.005997                 0.023457   \n",
       "JobLevel                      -0.063360                -0.059680   \n",
       "MonthlyIncome                  0.000088                 0.064470   \n",
       "NumCompaniesWorked            -0.117213                -0.035855   \n",
       "PercentSalaryHike             -0.029022                -0.028654   \n",
       "StockOptionLevel               0.009369                 0.019889   \n",
       "TotalWorkingYears              0.627738                 0.404058   \n",
       "TrainingTimesLastYear         -0.010447                 0.015340   \n",
       "YearsAtCompany                 1.000000                 0.618722   \n",
       "YearsSinceLastPromotion        0.618722                 1.000000   \n",
       "YearsWithCurrManager           0.769161                 0.510341   \n",
       "\n",
       "                         YearsWithCurrManager  \n",
       "Age                                  0.201580  \n",
       "Attrition                           -0.154692  \n",
       "DistanceFromHome                     0.021773  \n",
       "Education                            0.005645  \n",
       "JobLevel                            -0.053898  \n",
       "MonthlyIncome                        0.023095  \n",
       "NumCompaniesWorked                  -0.109372  \n",
       "PercentSalaryHike                   -0.039687  \n",
       "StockOptionLevel                     0.019398  \n",
       "TotalWorkingYears                    0.458640  \n",
       "TrainingTimesLastYear               -0.015792  \n",
       "YearsAtCompany                       0.769161  \n",
       "YearsSinceLastPromotion              0.510341  \n",
       "YearsWithCurrManager                 1.000000  "
      ]
     },
     "execution_count": 49,
     "metadata": {},
     "output_type": "execute_result"
    }
   ],
   "source": [
    "df.corr()"
   ]
  },
  {
   "cell_type": "markdown",
   "metadata": {},
   "source": [
    "#### Conclusion:"
   ]
  },
  {
   "cell_type": "markdown",
   "metadata": {},
   "source": [
    "- **we can observe that Age variable can be approximated to a normal distribution**\n",
    "- **maximum attrition is taking place in age group of 25-35 years.**"
   ]
  },
  {
   "cell_type": "markdown",
   "metadata": {},
   "source": [
    "- **we can observe that MonthlyIncome is right skewed with some outliers in the higher range**\n",
    "- **Employess having MonthlyIncome in range of 25000 to 75000 are more probable to resign**"
   ]
  },
  {
   "cell_type": "markdown",
   "metadata": {},
   "source": [
    "- **we can observe that PercentSalaryHike also follows right skewed distribution with maximum values in range of (12-14%)**"
   ]
  },
  {
   "cell_type": "markdown",
   "metadata": {},
   "source": [
    "- **we can observe that Attrition rate is comparitively higher in Human Resources department than the other two.**\n",
    "- **Maximum number of employees work in Research &Development department.**\n",
    "- **Almost half of employees working in Human Resources tend to resign contributing to Attrition.**\n"
   ]
  },
  {
   "cell_type": "markdown",
   "metadata": {},
   "source": [
    "- **Attrition rate is comparitively higher in employees who travel Frequently.** "
   ]
  },
  {
   "cell_type": "markdown",
   "metadata": {},
   "source": [
    "- **Male employees are higher in number compared to female employees.**\n",
    "- **But there is no significant change in Attrition rate.**"
   ]
  },
  {
   "cell_type": "markdown",
   "metadata": {},
   "source": [
    "- **Employees who are single tend to contribute to high Attrition rate than married or divorced employees.**"
   ]
  },
  {
   "cell_type": "markdown",
   "metadata": {},
   "source": [
    "**variables having effect on Attrition (p>0.05)--> from statistical tests :**\n",
    "1. 'Age'\n",
    "2. 'NumCompaniesWorked',\n",
    "3. 'PercentSalaryHike',\n",
    "4. 'YearsSinceLastPromotion',\n",
    "5. 'YearsAtCompany',\n",
    "6. 'YearsWithCurrManager',\n",
    "7. 'TrainingTimesLastYear',\n",
    "8. 'BusinessTravel',\n",
    "9. 'Department',\n",
    "10. 'EducationField',\n",
    "11. 'MaritalStatus'"
   ]
  },
  {
   "cell_type": "markdown",
   "metadata": {},
   "source": [
    "- out of above variables \"Age\",\"Department\",\"Business Travel\",\"PercentSalaryHike\",'MaritalStatus' are most probably effecting attrition."
   ]
  },
  {
   "cell_type": "code",
   "execution_count": null,
   "metadata": {},
   "outputs": [],
   "source": []
  }
 ],
 "metadata": {
  "kernelspec": {
   "display_name": "Python 3",
   "language": "python",
   "name": "python3"
  },
  "language_info": {
   "codemirror_mode": {
    "name": "ipython",
    "version": 3
   },
   "file_extension": ".py",
   "mimetype": "text/x-python",
   "name": "python",
   "nbconvert_exporter": "python",
   "pygments_lexer": "ipython3",
   "version": "3.7.6"
  }
 },
 "nbformat": 4,
 "nbformat_minor": 4
}
