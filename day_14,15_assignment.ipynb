{
 "cells": [
  {
   "cell_type": "markdown",
   "metadata": {},
   "source": [
    "## Assignment-14&15"
   ]
  },
  {
   "cell_type": "code",
   "execution_count": 1,
   "metadata": {},
   "outputs": [],
   "source": [
    "import numpy as np\n"
   ]
  },
  {
   "cell_type": "markdown",
   "metadata": {},
   "source": [
    "# 1. Create a 3x3x3 array with random values "
   ]
  },
  {
   "cell_type": "code",
   "execution_count": 2,
   "metadata": {},
   "outputs": [
    {
     "data": {
      "text/plain": [
       "array([[[0.60011975, 0.07020031, 0.4198477 ],\n",
       "        [0.91353365, 0.83169888, 0.47353002],\n",
       "        [0.85418878, 0.02930028, 0.26429126]],\n",
       "\n",
       "       [[0.92436956, 0.04211318, 0.61176805],\n",
       "        [0.52626696, 0.92076776, 0.38410122],\n",
       "        [0.76125183, 0.39564088, 0.24633939]],\n",
       "\n",
       "       [[0.10106396, 0.64958095, 0.98560675],\n",
       "        [0.64999364, 0.61441848, 0.59698616],\n",
       "        [0.41067458, 0.41077552, 0.91722787]]])"
      ]
     },
     "execution_count": 2,
     "metadata": {},
     "output_type": "execute_result"
    }
   ],
   "source": [
    "a=np.random.rand(3,3,3)\n",
    "a"
   ]
  },
  {
   "cell_type": "markdown",
   "metadata": {},
   "source": [
    "# 2.Create a 5x5 matrix with values 1,2,3,4 just below the diagonal"
   ]
  },
  {
   "cell_type": "code",
   "execution_count": 3,
   "metadata": {},
   "outputs": [
    {
     "data": {
      "text/plain": [
       "array([[0., 0., 0., 0., 0.],\n",
       "       [1., 0., 0., 0., 0.],\n",
       "       [0., 2., 0., 0., 0.],\n",
       "       [0., 0., 3., 0., 0.],\n",
       "       [0., 0., 0., 4., 0.]])"
      ]
     },
     "execution_count": 3,
     "metadata": {},
     "output_type": "execute_result"
    }
   ],
   "source": [
    "b=np.zeros((5,5))\n",
    "for i in range(4):\n",
    "    b[i+1,i]=i+1\n",
    "b"
   ]
  },
  {
   "cell_type": "markdown",
   "metadata": {},
   "source": [
    "# 3.Create a 8x8 matrix and fill it with a checkerboard pattern"
   ]
  },
  {
   "cell_type": "code",
   "execution_count": 4,
   "metadata": {},
   "outputs": [
    {
     "name": "stdout",
     "output_type": "stream",
     "text": [
      "checkerboard pattern : \n",
      " [[0. 1. 0. 1. 0. 1. 0. 1.]\n",
      " [1. 0. 1. 0. 1. 0. 1. 0.]\n",
      " [0. 1. 0. 1. 0. 1. 0. 1.]\n",
      " [1. 0. 1. 0. 1. 0. 1. 0.]\n",
      " [0. 1. 0. 1. 0. 1. 0. 1.]\n",
      " [1. 0. 1. 0. 1. 0. 1. 0.]\n",
      " [0. 1. 0. 1. 0. 1. 0. 1.]\n",
      " [1. 0. 1. 0. 1. 0. 1. 0.]]\n"
     ]
    }
   ],
   "source": [
    "c=np.zeros((8,8))\n",
    "for i in range(8):\n",
    "    for j in range(8):\n",
    "        if((i%2==0) and (j%2!=0)):\n",
    "            c[i,j]=1\n",
    "        elif((i%2!=0) and (j%2==0)):\n",
    "            c[i,j]=1\n",
    "print(\"checkerboard pattern : \\n\",c)"
   ]
  },
  {
   "cell_type": "markdown",
   "metadata": {},
   "source": [
    "# 4. Normalize a 5x5 random matrix"
   ]
  },
  {
   "cell_type": "code",
   "execution_count": 5,
   "metadata": {},
   "outputs": [
    {
     "data": {
      "text/plain": [
       "array([[ 1.29268618,  0.84687906,  0.67489266,  1.82128407,  0.03728374],\n",
       "       [-1.01587928, -0.50207644, -0.84199799,  0.07224691,  0.30017659],\n",
       "       [ 0.01113232,  0.57718454,  1.20629784, -1.32146761,  1.15514347],\n",
       "       [ 0.7693827 , -0.87402616, -0.46951162, -0.2516051 ,  1.60695333],\n",
       "       [ 1.28307183,  2.19126849,  0.23468856, -0.41529806, -0.87247995]])"
      ]
     },
     "execution_count": 5,
     "metadata": {},
     "output_type": "execute_result"
    }
   ],
   "source": [
    "d=np.random.randn(5,5)\n",
    "d"
   ]
  },
  {
   "cell_type": "markdown",
   "metadata": {},
   "source": [
    "# 5.  How to find common values between two arrays?"
   ]
  },
  {
   "cell_type": "code",
   "execution_count": 6,
   "metadata": {},
   "outputs": [
    {
     "name": "stdout",
     "output_type": "stream",
     "text": [
      "the common values between a and b arrays :  [3, 6, 7]\n"
     ]
    }
   ],
   "source": [
    "a=np.array([1,3,5,6,7,7,5,7,4])\n",
    "b=np.array([3,6,7,11,3,7,9,8,0,3])\n",
    "c=[]\n",
    "for i in set(a):\n",
    "    for j in set(b):\n",
    "        if (i==j):\n",
    "            c.append(i)\n",
    "\n",
    "print(\"the common values between a and b arrays : \",c)"
   ]
  },
  {
   "cell_type": "markdown",
   "metadata": {},
   "source": [
    "# 6.How to get the dates of yesterday, today and tomorrow?"
   ]
  },
  {
   "cell_type": "code",
   "execution_count": 7,
   "metadata": {},
   "outputs": [
    {
     "name": "stdout",
     "output_type": "stream",
     "text": [
      "yesterday date:  2020-07-27\n",
      "today date    :  2020-07-28\n",
      "tomorrow date :  2020-07-29\n"
     ]
    }
   ],
   "source": [
    "yesterday = np.datetime64(\"today\") - np.timedelta64(1)\n",
    "today = np.datetime64(\"today\")\n",
    "tomorrow = np.datetime64(\"today\") + np.timedelta64(1)\n",
    "print(\"yesterday date: \",yesterday)\n",
    "print(\"today date    : \",today)\n",
    "print(\"tomorrow date : \",tomorrow)\n"
   ]
  },
  {
   "cell_type": "markdown",
   "metadata": {},
   "source": [
    "# 7. Consider two random array A and B, check if they are equal"
   ]
  },
  {
   "cell_type": "code",
   "execution_count": 8,
   "metadata": {},
   "outputs": [
    {
     "name": "stdout",
     "output_type": "stream",
     "text": [
      "a and b are not equal\n"
     ]
    }
   ],
   "source": [
    "a=np.random.rand(5,5)\n",
    "b=np.random.rand(5,5)\n",
    "if ((a==b).all()):\n",
    "    print(\"a and b are equal\")\n",
    "else:\n",
    "    print(\"a and b are not equal\")"
   ]
  },
  {
   "cell_type": "markdown",
   "metadata": {},
   "source": [
    "# 8.Create random vector of size 10 and replace the maximum value by 0 "
   ]
  },
  {
   "cell_type": "code",
   "execution_count": 9,
   "metadata": {},
   "outputs": [
    {
     "name": "stdout",
     "output_type": "stream",
     "text": [
      "[0.69478681 0.33948334 0.51396777 0.16804868 0.95505274 0.37418649\n",
      " 0.25871159 0.86043628 0.77467082 0.82299974]\n"
     ]
    }
   ],
   "source": [
    "a=np.random.random(10)\n",
    "print(a)"
   ]
  },
  {
   "cell_type": "code",
   "execution_count": 10,
   "metadata": {},
   "outputs": [
    {
     "data": {
      "text/plain": [
       "array([0.16804868, 0.25871159, 0.33948334, 0.37418649, 0.51396777,\n",
       "       0.69478681, 0.77467082, 0.82299974, 0.86043628, 0.        ])"
      ]
     },
     "execution_count": 10,
     "metadata": {},
     "output_type": "execute_result"
    }
   ],
   "source": [
    "b=np.sort(a)\n",
    "b[-1]=0\n",
    "b"
   ]
  },
  {
   "cell_type": "markdown",
   "metadata": {},
   "source": [
    "# 9. How to print all the values of an array?"
   ]
  },
  {
   "cell_type": "code",
   "execution_count": 11,
   "metadata": {},
   "outputs": [
    {
     "name": "stdout",
     "output_type": "stream",
     "text": [
      "1 2 2 3 4 11 "
     ]
    }
   ],
   "source": [
    "a=np.array([1,2,2,3,4,11])\n",
    "for i in a:\n",
    "    print(i,end=\" \")"
   ]
  },
  {
   "cell_type": "markdown",
   "metadata": {},
   "source": [
    "# 10.Subtract the mean of each row of a matrix"
   ]
  },
  {
   "cell_type": "code",
   "execution_count": 12,
   "metadata": {},
   "outputs": [
    {
     "data": {
      "text/plain": [
       "array([[-0.5,  0.5],\n",
       "       [-0.5,  0.5],\n",
       "       [-1. ,  1. ]])"
      ]
     },
     "execution_count": 12,
     "metadata": {},
     "output_type": "execute_result"
    }
   ],
   "source": [
    "b=np.array([[1,2],[3,4],[6,8]])\n",
    "b=b-np.mean(b,axis=1,keepdims=True)\n",
    "b"
   ]
  },
  {
   "cell_type": "markdown",
   "metadata": {},
   "source": [
    "# 11.Consider a given vector, how to add 1 to each element indexed by a second vector (be careful with repeated indices)? "
   ]
  },
  {
   "cell_type": "code",
   "execution_count": 13,
   "metadata": {},
   "outputs": [
    {
     "name": "stdout",
     "output_type": "stream",
     "text": [
      "new array:  [21  1  1  7  1  7  1 10 24]\n"
     ]
    }
   ],
   "source": [
    "a=np.array([21,12,13,7,11,7,19,10,24])\n",
    "b=np.array([2,4,6,9,1,11])\n",
    "for j in set(b):\n",
    "    if j<len(a):\n",
    "        a[j]=1\n",
    "print(\"new array: \",a)\n",
    "        "
   ]
  },
  {
   "cell_type": "markdown",
   "metadata": {},
   "source": [
    "# 12.How to get the diagonal of a dot product?"
   ]
  },
  {
   "cell_type": "code",
   "execution_count": 14,
   "metadata": {},
   "outputs": [
    {
     "name": "stdout",
     "output_type": "stream",
     "text": [
      "diag:  [28 42]\n"
     ]
    }
   ],
   "source": [
    "X= np.array([[1,2,3],[2,4,3]])\n",
    "Y=np.array([[1,2],[3,5],[7,6]])\n",
    "diag= np.diag(X.dot(Y))\n",
    "print(\"diag: \",diag)"
   ]
  },
  {
   "cell_type": "markdown",
   "metadata": {},
   "source": [
    "# 13.How to find the most frequent value in an array?"
   ]
  },
  {
   "cell_type": "code",
   "execution_count": 15,
   "metadata": {},
   "outputs": [
    {
     "name": "stdout",
     "output_type": "stream",
     "text": [
      "the most frequent value in the array:  [9]\n"
     ]
    }
   ],
   "source": [
    "d={}\n",
    "a=np.array([2,8,9,5,6,7,6,4,8,9,9,9,7,7,0])\n",
    "for i in set(a):\n",
    "    c=0;\n",
    "    for j in a:\n",
    "        if(i==j):\n",
    "            c=c+1\n",
    "    d[i]=c\n",
    "\n",
    "f=np.array((list(d.values())))\n",
    "g=np.max(f)\n",
    "\n",
    "f1=[]\n",
    "for k in d.keys():\n",
    "    if(d[k]== g):\n",
    "        f1.append(k)\n",
    "\n",
    "print(\"the most frequent value in the array: \",f1)"
   ]
  },
  {
   "cell_type": "markdown",
   "metadata": {},
   "source": [
    "# 14.How to get the n largest values of an array"
   ]
  },
  {
   "cell_type": "code",
   "execution_count": 16,
   "metadata": {},
   "outputs": [],
   "source": [
    "a=np.array([5,8,3,6,0,2,1,15,7,5,11])"
   ]
  },
  {
   "cell_type": "code",
   "execution_count": 17,
   "metadata": {},
   "outputs": [
    {
     "name": "stdout",
     "output_type": "stream",
     "text": [
      "enter the number n: 4\n",
      "the 4 largest values of the array [ 5  8  3  6  0  2  1 15  7  5 11]  :  [15 11  8  7]\n"
     ]
    }
   ],
   "source": [
    "n=int(input(\"enter the number n: \"))\n",
    "print(f\"the {n} largest values of the array {a}  : \",np.sort(a)[-1:-(n+1):-1])"
   ]
  },
  {
   "cell_type": "markdown",
   "metadata": {},
   "source": [
    "# 15.How to create a record array from a regular array?"
   ]
  },
  {
   "cell_type": "code",
   "execution_count": 18,
   "metadata": {},
   "outputs": [
    {
     "name": "stdout",
     "output_type": "stream",
     "text": [
      "regular array:  [['ram' '78' '88']\n",
      " ['priya' '77' '97']\n",
      " ['geeta' '88' '89']]\n"
     ]
    }
   ],
   "source": [
    "a=np.array([(\"ram\",78,88),(\"priya\",77,97),(\"geeta\",88,89)])\n",
    "print(\"regular array: \",a)"
   ]
  },
  {
   "cell_type": "code",
   "execution_count": 19,
   "metadata": {},
   "outputs": [
    {
     "name": "stdout",
     "output_type": "stream",
     "text": [
      "record array:  [(b'ram', 78., 88) (b'priya', 77., 97) (b'geeta', 88., 89)]\n"
     ]
    }
   ],
   "source": [
    "rec=np.core.records.fromarrays(a.T,names='col1, col2, col3',formats = 'S80, f8, i8')\n",
    "print(\"record array: \",rec)"
   ]
  },
  {
   "cell_type": "code",
   "execution_count": null,
   "metadata": {},
   "outputs": [],
   "source": []
  }
 ],
 "metadata": {
  "kernelspec": {
   "display_name": "Python 3",
   "language": "python",
   "name": "python3"
  },
  "language_info": {
   "codemirror_mode": {
    "name": "ipython",
    "version": 3
   },
   "file_extension": ".py",
   "mimetype": "text/x-python",
   "name": "python",
   "nbconvert_exporter": "python",
   "pygments_lexer": "ipython3",
   "version": "3.7.6"
  }
 },
 "nbformat": 4,
 "nbformat_minor": 2
}
